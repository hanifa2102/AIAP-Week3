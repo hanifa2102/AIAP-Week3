{
 "cells": [
  {
   "cell_type": "markdown",
   "metadata": {},
   "source": [
    "# Overview of Week 3"
   ]
  },
  {
   "cell_type": "markdown",
   "metadata": {},
   "source": [
    "This week's assignment consists of two parts. The first part gives you an introduction to unsupervised learning. In particular, we focus on techniques for clustering and dimensionality reduction and how they can be applied to ecommerce data. As you work through the three clustering case studies, you will find yourself generating many intermediate datasets, trying different models, and tuning each model as you go along. There's a lot to keep track of.   \n",
    "\n",
    "This is where Part 2 comes in. It is in Part 2 that we introduce ideas of **workflow management** and **computational reproducibility**. Workflow management means organising your project directory to manage your analysis' artefacts (visualisations, processed datasets, notebooks and utility functions and experiment results). Ideally, your code for these should be clearly commented with well chosen names. Computational reproducibility means someone else (including future you!) being able to take just the code and data, and reproduce your project, from its results and models to visualisations etc. How one decides to practice workflow management and computational reproducibility can be quite a personal decision. Therefore, we provide guidelines, not rules. The most important is having a system rather than no system at all. \n",
    "\n",
    "**note about the week**   \n",
    "While week 1's assignment was guided, with specific instructions about what code to run, as we move on the assignments will involve less hand-holding. For this week, we include some instructions, but leave the specific implementations up to you. There are also many techniques we cover. Again, while we share some resources, we leave the bulk of the research and background reading up to you to manage for yourself. As a record of how well you have synthesised your readings, this notebook has space for writing a few paragraphs of explanations. We hope you won't be content with a shallow explanation, and that you use this space to apply the [Feynmann technique](https://collegeinfogeek.com/feynman-technique/) as a check of understanding. \n",
    "\n",
    "To tie Part 1 and Part 2 of the week together, we are not just asking for one Jupyter Notebook as a final deliverable. Instead, there are four deliverables to the week: \n",
    "\n",
    "**1. Part 1 Notebook I and II exercises presented at the end of the week job-interview style**\n",
    "\n",
    "**2. A script that automates the data cleaning and feature engineering steps you take so your findings are reproducible (see Part 2 Notebook I for more info)**\n",
    "\n",
    "**3. A repo README.md (see Part 2 Notebook I for more info)**\n",
    "\n",
    "**4  A record of software package versions and software environment used (see Part 2 Notebook I for more info)**   \n",
    "\n",
    "**recap of the objectives for the first 6 weeks:**  \n",
    "We aim to broadly cover a wide range of Machine Learning algorithms so that you can: \n",
    "- handle the technical demands of a 100E given some guidance on the right direction to take \n",
    "- can handle a technical job interview and get hired \n",
    "\n",
    "*materials for unsupervised learning adapted from William Thji* "
   ]
  },
  {
   "cell_type": "markdown",
   "metadata": {},
   "source": [
    "# Part I : Unsupervised Learning \n",
    "Unsupervised Learning refers to a set of machine learning techniques where no output variables (Y) are given. Only the input variables (X) are available and our job is to find patterns in X. You may read more about it from *pg 485 from Hastie and Tibshirani's Elements of Statistical Learning* available [here](https://web.stanford.edu/~hastie/Papers/ESLII.pdf). \n",
    "\n",
    "ESL by Hastie et. al with be the primary reference for this week, although feel free to source for your own books and links. "
   ]
  },
  {
   "cell_type": "markdown",
   "metadata": {},
   "source": [
    "## Short introduction to clustering \n",
    "Clustering puts datapoints into subsets so that datapoints within a cluster are more closely related to one another compared to datapoints in another cluster. More information is available from page 501 of *Elements of Statistical Learning*. \n",
    "\n",
    "Some quick points: \n",
    "- Clustering is extremely useful to many fields: \n",
    "    - Customer segmentation for personalised product recommendations\n",
    "    - Topic identification to relieve the need to manually vet documents \n",
    "    - Image or geo-spatial segmentation to optimised supply and demand (Gojek does this) \n",
    "    - and maybe most importantly, getting a sense of the data before starting to model it. \n",
    "\n",
    "- Some examples of clustering algorithms: \n",
    "    - KMeans\n",
    "    - Gaussian Mixture Models for drawing soft clustering boundaries instead of hard ones \n",
    "    - Hierarchical clustering\n",
    "    - DBScan for density-based clustering for anomaly detection \n",
    "    - Co-clustering\n",
    "    - Biclustering for analysing genes"
   ]
  },
  {
   "cell_type": "code",
   "execution_count": 1,
   "metadata": {},
   "outputs": [
    {
     "name": "stderr",
     "output_type": "stream",
     "text": [
      "/home/hanifa/anaconda3/lib/python3.7/importlib/_bootstrap.py:219: RuntimeWarning: numpy.dtype size changed, may indicate binary incompatibility. Expected 96, got 88\n",
      "  return f(*args, **kwds)\n",
      "/home/hanifa/anaconda3/lib/python3.7/importlib/_bootstrap.py:219: RuntimeWarning: numpy.dtype size changed, may indicate binary incompatibility. Expected 96, got 88\n",
      "  return f(*args, **kwds)\n"
     ]
    }
   ],
   "source": [
    "import pandas as pd\n",
    "import numpy as np\n",
    "import matplotlib.pyplot as plt\n",
    "import seaborn as sns\n",
    "%matplotlib inline\n",
    "from scipy.cluster.hierarchy import linkage,dendrogram\n",
    "from sklearn import preprocessing\n",
    "import matplotlib.pyplot as plt\n",
    "from scipy.cluster.hierarchy import cophenet\n",
    "from scipy.spatial.distance import pdist\n",
    "from scipy.cluster.hierarchy import fcluster\n",
    "from sklearn.preprocessing import StandardScaler\n",
    "from sklearn.preprocessing import MinMaxScaler\n",
    "from sklearn.cluster import KMeans\n",
    "from sklearn.mixture import GaussianMixture #For GMM clustering\n",
    "from sklearn import metrics\n",
    "\n",
    "from src.data_preprocess import cleanData\n",
    "from src.data_preprocess import transformScaleData"
   ]
  },
  {
   "cell_type": "code",
   "execution_count": 2,
   "metadata": {
    "code_folding": []
   },
   "outputs": [],
   "source": [
    "def isDataClean(df):\n",
    "    print(\"Numeric Data\")\n",
    "    print(df.describe())\n",
    "    print(\"\")\n",
    "    print(\"Categorical Data\")\n",
    "    print(df.describe(include=['O']))\n",
    "    print(\"\")\n",
    "    print(\"NAs in Data\")\n",
    "    print(df.isnull().any())\n",
    "    print(\"\\nSize of df\")\n",
    "    print(df.shape)"
   ]
  },
  {
   "cell_type": "code",
   "execution_count": 3,
   "metadata": {},
   "outputs": [
    {
     "name": "stderr",
     "output_type": "stream",
     "text": [
      "/home/hanifa/anaconda3/lib/python3.7/site-packages/sklearn/preprocessing/data.py:323: DataConversionWarning: Data with input dtype int64, float64 were all converted to float64 by MinMaxScaler.\n",
      "  return self.partial_fit(X, y)\n"
     ]
    }
   ],
   "source": [
    "#Run Main\n",
    "df = pd.read_csv('data/raw/data.csv', encoding='ISO-8859-1')\n",
    "df = cleanData(df)\n",
    "df1,df1_normalized_df=transformScaleData(df)\n",
    "df.to_csv('data/clean_data.csv', sep=',',encoding='ISO-8859-1')\n"
   ]
  },
  {
   "cell_type": "markdown",
   "metadata": {},
   "source": [
    "## Deliverable 1: Complete the Clustering Case Study: Using PCA and clustering to uncover customer segments \n",
    "Context: The dataset we will be working with contains ecommerce transactions from a UK-based online retails store. The dataset is available on [Kaggle](https://www.kaggle.com/carrie1/ecommerce-data/home) or the UCI Machine Learning Repository. The dataset is quite small, so we have also included it inside the `data` folder inside this repo as `data/raw/data.csv`. \n",
    "\n",
    "From the Kaggle website: \n",
    "\n",
    "\"This is a transnational data set which contains all the transactions occurring between 01/12/2010 and 09/12/2011 for a UK-based and registered non-store online retail.The company mainly sells unique all-occasion gifts. Many customers of the company are wholesalers.\"\n",
    "\n",
    "### Case Study Goal \n",
    "Cluster the dataset into meaningful customer segments. This means creating clusters that are statistically robust and that make business sense. \n"
   ]
  },
  {
   "cell_type": "code",
   "execution_count": 4,
   "metadata": {},
   "outputs": [
    {
     "data": {
      "text/html": [
       "<div>\n",
       "<style scoped>\n",
       "    .dataframe tbody tr th:only-of-type {\n",
       "        vertical-align: middle;\n",
       "    }\n",
       "\n",
       "    .dataframe tbody tr th {\n",
       "        vertical-align: top;\n",
       "    }\n",
       "\n",
       "    .dataframe thead th {\n",
       "        text-align: right;\n",
       "    }\n",
       "</style>\n",
       "<table border=\"1\" class=\"dataframe\">\n",
       "  <thead>\n",
       "    <tr style=\"text-align: right;\">\n",
       "      <th></th>\n",
       "      <th>InvoiceNo</th>\n",
       "      <th>StockCode</th>\n",
       "      <th>Description</th>\n",
       "      <th>Quantity</th>\n",
       "      <th>InvoiceDate</th>\n",
       "      <th>UnitPrice</th>\n",
       "      <th>CustomerID</th>\n",
       "      <th>Country</th>\n",
       "    </tr>\n",
       "  </thead>\n",
       "  <tbody>\n",
       "    <tr>\n",
       "      <th>0</th>\n",
       "      <td>536365</td>\n",
       "      <td>85123A</td>\n",
       "      <td>WHITE HANGING HEART T-LIGHT HOLDER</td>\n",
       "      <td>6</td>\n",
       "      <td>12/1/2010 8:26</td>\n",
       "      <td>2.55</td>\n",
       "      <td>17850.0</td>\n",
       "      <td>United Kingdom</td>\n",
       "    </tr>\n",
       "    <tr>\n",
       "      <th>1</th>\n",
       "      <td>536365</td>\n",
       "      <td>71053</td>\n",
       "      <td>WHITE METAL LANTERN</td>\n",
       "      <td>6</td>\n",
       "      <td>12/1/2010 8:26</td>\n",
       "      <td>3.39</td>\n",
       "      <td>17850.0</td>\n",
       "      <td>United Kingdom</td>\n",
       "    </tr>\n",
       "    <tr>\n",
       "      <th>2</th>\n",
       "      <td>536365</td>\n",
       "      <td>84406B</td>\n",
       "      <td>CREAM CUPID HEARTS COAT HANGER</td>\n",
       "      <td>8</td>\n",
       "      <td>12/1/2010 8:26</td>\n",
       "      <td>2.75</td>\n",
       "      <td>17850.0</td>\n",
       "      <td>United Kingdom</td>\n",
       "    </tr>\n",
       "    <tr>\n",
       "      <th>3</th>\n",
       "      <td>536365</td>\n",
       "      <td>84029G</td>\n",
       "      <td>KNITTED UNION FLAG HOT WATER BOTTLE</td>\n",
       "      <td>6</td>\n",
       "      <td>12/1/2010 8:26</td>\n",
       "      <td>3.39</td>\n",
       "      <td>17850.0</td>\n",
       "      <td>United Kingdom</td>\n",
       "    </tr>\n",
       "    <tr>\n",
       "      <th>4</th>\n",
       "      <td>536365</td>\n",
       "      <td>84029E</td>\n",
       "      <td>RED WOOLLY HOTTIE WHITE HEART.</td>\n",
       "      <td>6</td>\n",
       "      <td>12/1/2010 8:26</td>\n",
       "      <td>3.39</td>\n",
       "      <td>17850.0</td>\n",
       "      <td>United Kingdom</td>\n",
       "    </tr>\n",
       "  </tbody>\n",
       "</table>\n",
       "</div>"
      ],
      "text/plain": [
       "  InvoiceNo StockCode                          Description  Quantity  \\\n",
       "0    536365    85123A   WHITE HANGING HEART T-LIGHT HOLDER         6   \n",
       "1    536365     71053                  WHITE METAL LANTERN         6   \n",
       "2    536365    84406B       CREAM CUPID HEARTS COAT HANGER         8   \n",
       "3    536365    84029G  KNITTED UNION FLAG HOT WATER BOTTLE         6   \n",
       "4    536365    84029E       RED WOOLLY HOTTIE WHITE HEART.         6   \n",
       "\n",
       "      InvoiceDate  UnitPrice  CustomerID         Country  \n",
       "0  12/1/2010 8:26       2.55     17850.0  United Kingdom  \n",
       "1  12/1/2010 8:26       3.39     17850.0  United Kingdom  \n",
       "2  12/1/2010 8:26       2.75     17850.0  United Kingdom  \n",
       "3  12/1/2010 8:26       3.39     17850.0  United Kingdom  \n",
       "4  12/1/2010 8:26       3.39     17850.0  United Kingdom  "
      ]
     },
     "execution_count": 4,
     "metadata": {},
     "output_type": "execute_result"
    }
   ],
   "source": [
    "import pandas as pd \n",
    "df = pd.read_csv('data/raw/data.csv', encoding='ISO-8859-1')\n",
    "df.head()"
   ]
  },
  {
   "cell_type": "markdown",
   "metadata": {},
   "source": [
    "### Cleaning data \n",
    "\n",
    "Some data types are muddled, there are duplicates, NA values and unreasonable values hiding in the columns \n",
    "\n",
    "1. Clean the dataset. You may want to list the steps taken to clean the data and encapsulate the steps inside their own functions so they can be reused. Organise the functions into their own library"
   ]
  },
  {
   "cell_type": "code",
   "execution_count": 5,
   "metadata": {},
   "outputs": [],
   "source": [
    "df=df[df['CustomerID'].notnull()]\n",
    "# isDataClean(df)"
   ]
  },
  {
   "cell_type": "code",
   "execution_count": 6,
   "metadata": {},
   "outputs": [],
   "source": [
    "df=df[df['Quantity']>0]\n",
    "# isDataClean(df)"
   ]
  },
  {
   "cell_type": "code",
   "execution_count": 7,
   "metadata": {},
   "outputs": [
    {
     "name": "stderr",
     "output_type": "stream",
     "text": [
      "/home/hanifa/anaconda3/lib/python3.7/site-packages/scipy/stats/stats.py:1713: FutureWarning: Using a non-tuple sequence for multidimensional indexing is deprecated; use `arr[tuple(seq)]` instead of `arr[seq]`. In the future this will be interpreted as an array index, `arr[np.array(seq)]`, which will result either in an error or a different result.\n",
      "  return np.add.reduce(sorted[indexer] * weights, axis=axis) / sumval\n"
     ]
    },
    {
     "data": {
      "text/plain": [
       "<matplotlib.axes._subplots.AxesSubplot at 0x7fd4967557b8>"
      ]
     },
     "execution_count": 7,
     "metadata": {},
     "output_type": "execute_result"
    },
    {
     "data": {
      "image/png": "[encoded data removed]",
      "text/plain": [
       "<Figure size 432x288 with 1 Axes>"
      ]
     },
     "metadata": {
      "needs_background": "light"
     },
     "output_type": "display_data"
    }
   ],
   "source": [
    "sns.distplot(df.Quantity)"
   ]
  },
  {
   "cell_type": "code",
   "execution_count": 8,
   "metadata": {},
   "outputs": [],
   "source": [
    "Quantity_min,Quantity_max=df['Quantity'].mean()-2* np.std(df['Quantity']),df['Quantity'].mean()+2* np.std(df['Quantity'])\n",
    "df=df[(df['Quantity']>=Quantity_min) & (df['Quantity']<=Quantity_max)]\n",
    "# isDataClean(df)"
   ]
  },
  {
   "cell_type": "code",
   "execution_count": null,
   "metadata": {
    "code_folding": []
   },
   "outputs": [],
   "source": [
    "# x=df[['CustomerID','InvoiceNo']].drop_duplicates().groupby(by=['InvoiceNo'])['CustomerID'].nunique()\n",
    "# x_df = x.to_frame().reset_index()\n",
    "# x_df.sort_values('CustomerID',ascending=False)"
   ]
  },
  {
   "cell_type": "markdown",
   "metadata": {},
   "source": [
    "### EDA"
   ]
  },
  {
   "cell_type": "code",
   "execution_count": 9,
   "metadata": {},
   "outputs": [
    {
     "data": {
      "text/plain": [
       "United Kingdom          0.890556\n",
       "Germany                 0.022760\n",
       "France                  0.020998\n",
       "EIRE                    0.018198\n",
       "Spain                   0.006256\n",
       "Netherlands             0.005869\n",
       "Belgium                 0.005113\n",
       "Switzerland             0.004638\n",
       "Portugal                0.003681\n",
       "Australia               0.002926\n",
       "Norway                  0.002699\n",
       "Italy                   0.001908\n",
       "Channel Islands         0.001881\n",
       "Finland                 0.001725\n",
       "Cyprus                  0.001546\n",
       "Sweden                  0.001083\n",
       "Austria                 0.001002\n",
       "Denmark                 0.000957\n",
       "Poland                  0.000831\n",
       "Japan                   0.000765\n",
       "Israel                  0.000624\n",
       "Unspecified             0.000614\n",
       "Singapore               0.000559\n",
       "Iceland                 0.000458\n",
       "USA                     0.000451\n",
       "Canada                  0.000378\n",
       "Greece                  0.000365\n",
       "Malta                   0.000282\n",
       "United Arab Emirates    0.000171\n",
       "European Community      0.000151\n",
       "RSA                     0.000146\n",
       "Lebanon                 0.000113\n",
       "Lithuania               0.000088\n",
       "Brazil                  0.000081\n",
       "Czech Republic          0.000063\n",
       "Bahrain                 0.000043\n",
       "Saudi Arabia            0.000023\n",
       "Name: Country, dtype: float64"
      ]
     },
     "execution_count": 9,
     "metadata": {},
     "output_type": "execute_result"
    }
   ],
   "source": [
    "df['Country'].value_counts(normalize=True)"
   ]
  },
  {
   "cell_type": "code",
   "execution_count": 10,
   "metadata": {},
   "outputs": [],
   "source": [
    "df['CustomerID']=df['CustomerID'].astype(int).astype(int)"
   ]
  },
  {
   "cell_type": "markdown",
   "metadata": {},
   "source": [
    "### Feature Engineering iteration #1 \n",
    "\n",
    "Inside the dataset, each row contains information about an ecommerce transation. However, we want to cluster the data by customers, which means each row should instead contain information about a customer. \n",
    "\n",
    "1. Reshape the data to follow the format below: \n",
    "![alt text](customer.png)\n",
    "\n",
    "The dataframe should have these columns: `['NoOfInvoices', 'NoOfUniqueItems', 'QuantityPerInvoice', 'TotalQuantity', 'UniqueItemsPerInvoice','UnitPriceMean','UnitPriceStd']` \n",
    "2. Save this dataset as an intermediate dataset "
   ]
  },
  {
   "cell_type": "code",
   "execution_count": 11,
   "metadata": {
    "code_folding": [
     0
    ]
   },
   "outputs": [
    {
     "data": {
      "text/html": [
       "<div>\n",
       "<style scoped>\n",
       "    .dataframe tbody tr th:only-of-type {\n",
       "        vertical-align: middle;\n",
       "    }\n",
       "\n",
       "    .dataframe tbody tr th {\n",
       "        vertical-align: top;\n",
       "    }\n",
       "\n",
       "    .dataframe thead th {\n",
       "        text-align: right;\n",
       "    }\n",
       "</style>\n",
       "<table border=\"1\" class=\"dataframe\">\n",
       "  <thead>\n",
       "    <tr style=\"text-align: right;\">\n",
       "      <th></th>\n",
       "      <th>NoOfInvoices</th>\n",
       "      <th>NoOfUniqueItems</th>\n",
       "      <th>TotalQuantity</th>\n",
       "      <th>UnitPriceMean</th>\n",
       "      <th>UnitPriceStd</th>\n",
       "      <th>QuantityPerInvoice</th>\n",
       "      <th>UniqueItemsPerInvoice</th>\n",
       "    </tr>\n",
       "    <tr>\n",
       "      <th>CustomerID</th>\n",
       "      <th></th>\n",
       "      <th></th>\n",
       "      <th></th>\n",
       "      <th></th>\n",
       "      <th></th>\n",
       "      <th></th>\n",
       "      <th></th>\n",
       "    </tr>\n",
       "  </thead>\n",
       "  <tbody>\n",
       "    <tr>\n",
       "      <th>12347</th>\n",
       "      <td>7</td>\n",
       "      <td>103</td>\n",
       "      <td>2458</td>\n",
       "      <td>2.644011</td>\n",
       "      <td>2.255381</td>\n",
       "      <td>351.142857</td>\n",
       "      <td>14.714286</td>\n",
       "    </tr>\n",
       "    <tr>\n",
       "      <th>12348</th>\n",
       "      <td>4</td>\n",
       "      <td>22</td>\n",
       "      <td>2341</td>\n",
       "      <td>5.764839</td>\n",
       "      <td>13.400323</td>\n",
       "      <td>585.250000</td>\n",
       "      <td>5.500000</td>\n",
       "    </tr>\n",
       "    <tr>\n",
       "      <th>12349</th>\n",
       "      <td>1</td>\n",
       "      <td>73</td>\n",
       "      <td>631</td>\n",
       "      <td>8.289041</td>\n",
       "      <td>35.028021</td>\n",
       "      <td>631.000000</td>\n",
       "      <td>73.000000</td>\n",
       "    </tr>\n",
       "    <tr>\n",
       "      <th>12350</th>\n",
       "      <td>1</td>\n",
       "      <td>17</td>\n",
       "      <td>197</td>\n",
       "      <td>3.841176</td>\n",
       "      <td>9.334751</td>\n",
       "      <td>197.000000</td>\n",
       "      <td>17.000000</td>\n",
       "    </tr>\n",
       "    <tr>\n",
       "      <th>12352</th>\n",
       "      <td>8</td>\n",
       "      <td>59</td>\n",
       "      <td>536</td>\n",
       "      <td>15.930706</td>\n",
       "      <td>53.706324</td>\n",
       "      <td>67.000000</td>\n",
       "      <td>7.375000</td>\n",
       "    </tr>\n",
       "  </tbody>\n",
       "</table>\n",
       "</div>"
      ],
      "text/plain": [
       "            NoOfInvoices  NoOfUniqueItems  TotalQuantity  UnitPriceMean  \\\n",
       "CustomerID                                                                \n",
       "12347                  7              103           2458       2.644011   \n",
       "12348                  4               22           2341       5.764839   \n",
       "12349                  1               73            631       8.289041   \n",
       "12350                  1               17            197       3.841176   \n",
       "12352                  8               59            536      15.930706   \n",
       "\n",
       "            UnitPriceStd  QuantityPerInvoice  UniqueItemsPerInvoice  \n",
       "CustomerID                                                           \n",
       "12347           2.255381          351.142857              14.714286  \n",
       "12348          13.400323          585.250000               5.500000  \n",
       "12349          35.028021          631.000000              73.000000  \n",
       "12350           9.334751          197.000000              17.000000  \n",
       "12352          53.706324           67.000000               7.375000  "
      ]
     },
     "execution_count": 11,
     "metadata": {},
     "output_type": "execute_result"
    }
   ],
   "source": [
    "df1=(df.groupby('CustomerID')\n",
    "    .agg({'InvoiceNo': 'nunique',\n",
    "          'StockCode': 'nunique',\n",
    "          'Quantity':'sum',\n",
    "          'UnitPrice':'mean'\n",
    "         })\n",
    "    .rename(columns={'InvoiceNo': 'NoOfInvoices', \n",
    "                     'StockCode': 'NoOfUniqueItems',\n",
    "                     'Quantity':'TotalQuantity',\n",
    "                     'UnitPrice':'UnitPriceMean'\n",
    "                    })\n",
    ")\n",
    "\n",
    "df2=(df.groupby('CustomerID')\n",
    "    .agg({\n",
    "          'UnitPrice':'std'\n",
    "         })\n",
    "    .rename(columns={'UnitPrice':'UnitPriceStd'\n",
    "                    })\n",
    ")\n",
    "\n",
    "df1=df1.join(df2,how='inner')\n",
    "\n",
    "df1['QuantityPerInvoice']=df1['TotalQuantity']/df1['NoOfInvoices']\n",
    "df1['UniqueItemsPerInvoice']= df1['NoOfUniqueItems']/df1['NoOfInvoices']\n",
    "df1.head()\n",
    "\n"
   ]
  },
  {
   "cell_type": "code",
   "execution_count": 12,
   "metadata": {},
   "outputs": [
    {
     "name": "stdout",
     "output_type": "stream",
     "text": [
      "NAs in Data\n",
      "NoOfInvoices             False\n",
      "NoOfUniqueItems          False\n",
      "TotalQuantity            False\n",
      "UnitPriceMean            False\n",
      "UnitPriceStd              True\n",
      "QuantityPerInvoice       False\n",
      "UniqueItemsPerInvoice    False\n",
      "dtype: bool\n"
     ]
    }
   ],
   "source": [
    "print(\"NAs in Data\")\n",
    "print(df1.isnull().any())"
   ]
  },
  {
   "cell_type": "code",
   "execution_count": 13,
   "metadata": {},
   "outputs": [],
   "source": [
    "df1.fillna({'UnitPriceStd':0},inplace=True)"
   ]
  },
  {
   "cell_type": "code",
   "execution_count": 14,
   "metadata": {},
   "outputs": [
    {
     "name": "stderr",
     "output_type": "stream",
     "text": [
      "/home/hanifa/anaconda3/lib/python3.7/site-packages/sklearn/preprocessing/data.py:323: DataConversionWarning: Data with input dtype int64, float64 were all converted to float64 by MinMaxScaler.\n",
      "  return self.partial_fit(X, y)\n"
     ]
    }
   ],
   "source": [
    "stdScaler = MinMaxScaler()\n",
    "df1_normalized=stdScaler.fit_transform(df1)"
   ]
  },
  {
   "cell_type": "code",
   "execution_count": 15,
   "metadata": {},
   "outputs": [],
   "source": [
    "df1_normalized_df= pd.DataFrame(df1_normalized,columns=df1.columns)"
   ]
  },
  {
   "cell_type": "markdown",
   "metadata": {},
   "source": [
    "### Hierarchical clustering iteration #1 [reference pg 520](https://web.stanford.edu/~hastie/Papers/ESLII.pdf)\n",
    "\n",
    "1. Implement any more preprocessing or visualisation steps you feel are necessary to understand how you might build meaningful clusters from the data. \n",
    "2. Apply hierarchical clustering to the dataset. \n",
    "2. Experiment with different linkage algorithms. Visualise the resulting trees for average linkage, complete linkage and single linkage side-by-side. Which linkage algorithm works best? \n",
    "3. List two ways to improve the clustering and implement at least one. Track the results of the first iteration and second iteration (whether with Excel, TextEdit or within this notebook itself).\n",
    "    - __Create a distance matrix in excel (with a few sample points)__\n",
    "4. Describe the clusters you selected and evaluate whether or not they form meaningful segments. \n",
    "    - __Group them and check the variation of the values__"
   ]
  },
  {
   "cell_type": "markdown",
   "metadata": {},
   "source": [
    "#### Visualization Steps\n",
    "- Using T-Sne, to precalculate the number of clusters prior\n",
    "- Expect 2-3 clusters"
   ]
  },
  {
   "cell_type": "markdown",
   "metadata": {},
   "source": [
    "__Hierarchial Clustering__\n",
    "- Trying with different linkages"
   ]
  },
  {
   "cell_type": "code",
   "execution_count": 16,
   "metadata": {},
   "outputs": [],
   "source": [
    "def plotHierarchialClustering(method_str):\n",
    "\n",
    "    mergings = linkage(df1_normalized_df, method=method_str)\n",
    "    fig=plt.figure(figsize = (7,4))\n",
    "    ax=fig.add_subplot(111)\n",
    "    ax.set(title=method_str,xlabel='Clusters',ylabel='Height')\n",
    "    dendrogram(mergings,\n",
    "               labels=df1.index.values,\n",
    "               ax=ax,\n",
    "               truncate_mode='lastp',\n",
    "               orientation='top',\n",
    "               show_leaf_counts=True\n",
    "    )\n",
    "    c, coph_dists = cophenet(mergings, pdist(df1_normalized_df))\n",
    "#     print (\"My name is %s and weight is %d kg!\" % ('Zara', 21))\n",
    "    print(\"For %s linkage, cophenet score is %f\"%(method_str,c))\n",
    "    plt.show()\n",
    "    return\n",
    "\n",
    "\n",
    "\n"
   ]
  },
  {
   "cell_type": "code",
   "execution_count": 17,
   "metadata": {},
   "outputs": [
    {
     "name": "stdout",
     "output_type": "stream",
     "text": [
      "For single linkage, cophenet score is 0.831744\n"
     ]
    },
    {
     "data": {
      "image/png": "[encoded data removed]",
      "text/plain": [
       "<Figure size 504x288 with 1 Axes>"
      ]
     },
     "metadata": {
      "needs_background": "light"
     },
     "output_type": "display_data"
    },
    {
     "name": "stdout",
     "output_type": "stream",
     "text": [
      "For complete linkage, cophenet score is 0.796371\n"
     ]
    },
    {
     "data": {
      "image/png": "[encoded data removed]",
      "text/plain": [
       "<Figure size 504x288 with 1 Axes>"
      ]
     },
     "metadata": {
      "needs_background": "light"
     },
     "output_type": "display_data"
    },
    {
     "name": "stdout",
     "output_type": "stream",
     "text": [
      "For average linkage, cophenet score is 0.930234\n"
     ]
    },
    {
     "data": {
      "image/png": "[encoded data removed]",
      "text/plain": [
       "<Figure size 504x288 with 1 Axes>"
      ]
     },
     "metadata": {
      "needs_background": "light"
     },
     "output_type": "display_data"
    },
    {
     "name": "stdout",
     "output_type": "stream",
     "text": [
      "For ward linkage, cophenet score is 0.566120\n"
     ]
    },
    {
     "data": {
      "image/png": "[encoded data removed]",
      "text/plain": [
       "<Figure size 504x288 with 1 Axes>"
      ]
     },
     "metadata": {
      "needs_background": "light"
     },
     "output_type": "display_data"
    }
   ],
   "source": [
    "for i in ['single','complete','average','ward']:\n",
    "    plotHierarchialClustering(i)"
   ]
  },
  {
   "cell_type": "markdown",
   "metadata": {},
   "source": [
    "__Choosing best linkage__\n",
    "- Cophenetic score is used to judge the goodness of the hierarchial clustering. Points which are close together should be clustered close together.\n",
    "- In that respect, Average Linkage gives the best score"
   ]
  },
  {
   "cell_type": "markdown",
   "metadata": {},
   "source": [
    "__Listing Two ways to improve Hierarchial Clustering__\n",
    "- Outliers should be removed (Leads to imbalanced trees)\n",
    "- Scaling should be used as euclidean distances will become biased."
   ]
  },
  {
   "cell_type": "code",
   "execution_count": 18,
   "metadata": {},
   "outputs": [],
   "source": [
    "def createClusteringDF(df,clustering_labels):\n",
    "    clustering_df = pd.concat([df,\n",
    "                            pd.DataFrame(clustering_labels.reshape(-1,1),columns=['Clusters'],index=df.index)],\n",
    "                           axis=1)\n",
    "    return clustering_df"
   ]
  },
  {
   "cell_type": "code",
   "execution_count": 19,
   "metadata": {},
   "outputs": [],
   "source": [
    "\n",
    "\n",
    "from sklearn.manifold import TSNE\n",
    "model = TSNE(learning_rate=100)\n",
    "transformed=model.fit_transform(df1_normalized_df)\n",
    "transformed_df=pd.DataFrame(transformed,columns=['x','y'],index=df1_normalized_df.index)\n",
    "\n",
    "def plotSNE(clustering_label):\n",
    "    df_tmp = pd.concat([transformed_df,clustering_label],axis=1)\n",
    "    sns.lmplot(x=\"x\",y=\"y\",hue=\"Clusters\",data=df_tmp,palette=\"husl\")"
   ]
  },
  {
   "cell_type": "code",
   "execution_count": 20,
   "metadata": {},
   "outputs": [],
   "source": [
    "from sklearn.cluster import AgglomerativeClustering\n",
    "clustering = AgglomerativeClustering(linkage='average',n_clusters=3).fit(df1_normalized_df)"
   ]
  },
  {
   "cell_type": "code",
   "execution_count": 21,
   "metadata": {
    "code_folding": []
   },
   "outputs": [],
   "source": [
    "hierarchial_df=createClusteringDF(df1_normalized_df,clustering.labels_)"
   ]
  },
  {
   "cell_type": "markdown",
   "metadata": {},
   "source": [
    "__Meaningfullness of clusters__\n",
    " - Since the cluster sizes are quite lop-sided, no meaningfull clusters can be determined."
   ]
  },
  {
   "cell_type": "code",
   "execution_count": 22,
   "metadata": {},
   "outputs": [
    {
     "data": {
      "text/plain": [
       "2    4316\n",
       "0       5\n",
       "1       2\n",
       "Name: Clusters, dtype: int64"
      ]
     },
     "execution_count": 22,
     "metadata": {},
     "output_type": "execute_result"
    }
   ],
   "source": [
    "hierarchial_df['Clusters'].value_counts()"
   ]
  },
  {
   "cell_type": "markdown",
   "metadata": {},
   "source": [
    "### K-means and GMM Clustering iteration #1 [reference pg 509](https://web.stanford.edu/~hastie/Papers/ESLII.pdf)\n",
    "Apart from hierarchical clustering, we can also apply KMeans and Gaussian Mixture Models (GMM) on the data\n",
    "\n",
    "1. Implement K-means clustering on the data, experimenting with different values of k \n",
    "2. Implement a Gaussian Mixture Model on the data, experimenting with different values for the number of components.  \n",
    "3. Visualise how well K-means and GMMs succeed at separating subgroups in the data\n",
    "4. List two ways to improve the clustering and implement at least one.\n",
    "    - Scaling\n",
    "    - Outlier Removals\n",
    "5. Describe the clusters and evaluate whether or not they form meaningful segments. "
   ]
  },
  {
   "cell_type": "markdown",
   "metadata": {},
   "source": [
    "__K-Means__"
   ]
  },
  {
   "cell_type": "code",
   "execution_count": 23,
   "metadata": {},
   "outputs": [
    {
     "data": {
      "image/png": "[encoded data removed]",
      "text/plain": [
       "<Figure size 432x288 with 1 Axes>"
      ]
     },
     "metadata": {
      "needs_background": "light"
     },
     "output_type": "display_data"
    }
   ],
   "source": [
    "ks = range(1, 10)\n",
    "inertias = []\n",
    "\n",
    "for k in ks:\n",
    "#     # Create a KMeans instance with k clusters: model\n",
    "    model=KMeans(n_clusters=k,random_state=42)\n",
    "    \n",
    "#     # Fit model to samples\n",
    "    model.fit(df1_normalized_df)\n",
    "    inertias.append(model.inertia_)\n",
    "\n",
    "    \n",
    "# # Plot ks vs inertias\n",
    "plt.plot(ks, inertias, '-o')\n",
    "plt.xlabel('number of clusters, k')\n",
    "plt.ylabel('inertia')\n",
    "plt.xticks(ks)\n",
    "plt.show()\n"
   ]
  },
  {
   "cell_type": "code",
   "execution_count": 24,
   "metadata": {},
   "outputs": [],
   "source": [
    "\n",
    "km = KMeans(n_clusters=3, random_state=42)\n",
    "km.fit(df1_normalized_df)\n",
    "\n",
    "# predict the cluster for each data point\n",
    "y_cluster_kmeans = km.predict(df1_normalized_df)\n",
    "type(y_cluster_kmeans)\n",
    "\n",
    "kmeans_df=createClusteringDF(df1_normalized_df,y_cluster_kmeans)\n",
    "\n",
    "# from sklearn import metrics\n",
    "# score = metrics.silhouette_score(df1_normalized, y_cluster_kmeans)\n",
    "# score"
   ]
  },
  {
   "cell_type": "code",
   "execution_count": 25,
   "metadata": {},
   "outputs": [
    {
     "data": {
      "text/plain": [
       "0    3422\n",
       "1     858\n",
       "2      43\n",
       "Name: Clusters, dtype: int64"
      ]
     },
     "execution_count": 25,
     "metadata": {},
     "output_type": "execute_result"
    }
   ],
   "source": [
    "kmeans_df['Clusters'].value_counts()"
   ]
  },
  {
   "cell_type": "markdown",
   "metadata": {},
   "source": [
    "__GMM__ <br/>\n",
    "\n",
    "[Algo Link](https://towardsdatascience.com/gaussian-mixture-model-clusterization-how-to-select-the-number-of-components-clusters-553bef45f6e4)"
   ]
  },
  {
   "cell_type": "code",
   "execution_count": 26,
   "metadata": {},
   "outputs": [
    {
     "data": {
      "image/png": "[encoded data removed]",
      "text/plain": [
       "<Figure size 432x288 with 1 Axes>"
      ]
     },
     "metadata": {
      "needs_background": "light"
     },
     "output_type": "display_data"
    }
   ],
   "source": [
    "gaus_sil=[]\n",
    "ks=range(2,20)\n",
    "\n",
    "for k in ks:\n",
    "\n",
    "    clusterer = GaussianMixture(n_components=k,random_state=42)\n",
    "\n",
    "    # cluster_labels = clusterer.fit_predict(df1_normalized_df)\n",
    "    clusterer.fit(df1_normalized_df)\n",
    "    cluster_labels=clusterer.predict(df1_normalized_df)\n",
    "\n",
    "    # The silhouette_score gives the average value for all the samples.\n",
    "    # This gives a perspective into the density and separation of the formed\n",
    "    # clusters\n",
    "    silhouette_avg = metrics.silhouette_score(df1_normalized_df, cluster_labels)\n",
    "    gaus_sil.append(silhouette_avg)\n",
    "#     sample_silhouette_values =metrics.silhouette_samples(df1_normalized_df, cluster_labels)\n",
    "#     print(\"%d clusters, silhoutte error is %f and %f\"  %(k,silhouette_avg,sample_silhouette_values.mean()))\n",
    "\n",
    "\n",
    "# # Plot ks vs silhoutte\n",
    "plt.plot(ks, gaus_sil, '-o')\n",
    "plt.xlabel('number of clusters, k')\n",
    "plt.ylabel('Silhoutte score')\n",
    "plt.xticks(ks)\n",
    "plt.show()"
   ]
  },
  {
   "cell_type": "code",
   "execution_count": 27,
   "metadata": {},
   "outputs": [],
   "source": [
    "gmm=GaussianMixture(n_components=2,random_state=42)\n",
    "gmm.fit(df1_normalized_df)\n",
    "\n",
    "# predict the cluster for each data point\n",
    "gmm_clusters = gmm.predict(df1_normalized_df)\n",
    "\n",
    "gmm_df=createClusteringDF(df1_normalized_df,gmm_clusters)"
   ]
  },
  {
   "cell_type": "code",
   "execution_count": 28,
   "metadata": {},
   "outputs": [
    {
     "data": {
      "text/plain": [
       "0    3004\n",
       "1    1319\n",
       "Name: Clusters, dtype: int64"
      ]
     },
     "execution_count": 28,
     "metadata": {},
     "output_type": "execute_result"
    }
   ],
   "source": [
    "gmm_df['Clusters'].value_counts()"
   ]
  },
  {
   "cell_type": "markdown",
   "metadata": {},
   "source": [
    "#### Segments Understandings\n",
    "__GMM Chosen__\n",
    "\n",
    " - Segment 1 bought 5 times as much (TotalQuantity)\n",
    " - Segment 1 had 6 times as many invoices\n",
    " - Segment 1 are the most valuable segment compared to Segment 0\n"
   ]
  },
  {
   "cell_type": "code",
   "execution_count": 38,
   "metadata": {},
   "outputs": [
    {
     "data": {
      "text/html": [
       "<div>\n",
       "<style scoped>\n",
       "    .dataframe tbody tr th:only-of-type {\n",
       "        vertical-align: middle;\n",
       "    }\n",
       "\n",
       "    .dataframe tbody tr th {\n",
       "        vertical-align: top;\n",
       "    }\n",
       "\n",
       "    .dataframe thead th {\n",
       "        text-align: right;\n",
       "    }\n",
       "</style>\n",
       "<table border=\"1\" class=\"dataframe\">\n",
       "  <thead>\n",
       "    <tr style=\"text-align: right;\">\n",
       "      <th></th>\n",
       "      <th>NoOfInvoices</th>\n",
       "      <th>NoOfUniqueItems</th>\n",
       "      <th>TotalQuantity</th>\n",
       "      <th>UnitPriceMean</th>\n",
       "      <th>UnitPriceStd</th>\n",
       "      <th>QuantityPerInvoice</th>\n",
       "      <th>UniqueItemsPerInvoice</th>\n",
       "    </tr>\n",
       "    <tr>\n",
       "      <th>Clusters</th>\n",
       "      <th></th>\n",
       "      <th></th>\n",
       "      <th></th>\n",
       "      <th></th>\n",
       "      <th></th>\n",
       "      <th></th>\n",
       "      <th></th>\n",
       "    </tr>\n",
       "  </thead>\n",
       "  <tbody>\n",
       "    <tr>\n",
       "      <th>0</th>\n",
       "      <td>0.015770</td>\n",
       "      <td>0.024907</td>\n",
       "      <td>0.004580</td>\n",
       "      <td>0.002443</td>\n",
       "      <td>0.005196</td>\n",
       "      <td>0.051785</td>\n",
       "      <td>0.055230</td>\n",
       "    </tr>\n",
       "    <tr>\n",
       "      <th>1</th>\n",
       "      <td>0.009129</td>\n",
       "      <td>0.061127</td>\n",
       "      <td>0.005397</td>\n",
       "      <td>0.001288</td>\n",
       "      <td>0.004355</td>\n",
       "      <td>0.109891</td>\n",
       "      <td>0.194188</td>\n",
       "    </tr>\n",
       "    <tr>\n",
       "      <th>2</th>\n",
       "      <td>0.128296</td>\n",
       "      <td>0.212805</td>\n",
       "      <td>0.118779</td>\n",
       "      <td>0.001724</td>\n",
       "      <td>0.018194</td>\n",
       "      <td>0.464867</td>\n",
       "      <td>0.256621</td>\n",
       "    </tr>\n",
       "  </tbody>\n",
       "</table>\n",
       "</div>"
      ],
      "text/plain": [
       "          NoOfInvoices  NoOfUniqueItems  TotalQuantity  UnitPriceMean  \\\n",
       "Clusters                                                                \n",
       "0             0.015770         0.024907       0.004580       0.002443   \n",
       "1             0.009129         0.061127       0.005397       0.001288   \n",
       "2             0.128296         0.212805       0.118779       0.001724   \n",
       "\n",
       "          UnitPriceStd  QuantityPerInvoice  UniqueItemsPerInvoice  \n",
       "Clusters                                                           \n",
       "0             0.005196            0.051785               0.055230  \n",
       "1             0.004355            0.109891               0.194188  \n",
       "2             0.018194            0.464867               0.256621  "
      ]
     },
     "execution_count": 38,
     "metadata": {},
     "output_type": "execute_result"
    }
   ],
   "source": [
    "kmeans_df.groupby(by='Clusters').mean()"
   ]
  },
  {
   "cell_type": "code",
   "execution_count": 29,
   "metadata": {},
   "outputs": [
    {
     "data": {
      "text/html": [
       "<div>\n",
       "<style scoped>\n",
       "    .dataframe tbody tr th:only-of-type {\n",
       "        vertical-align: middle;\n",
       "    }\n",
       "\n",
       "    .dataframe tbody tr th {\n",
       "        vertical-align: top;\n",
       "    }\n",
       "\n",
       "    .dataframe thead th {\n",
       "        text-align: right;\n",
       "    }\n",
       "</style>\n",
       "<table border=\"1\" class=\"dataframe\">\n",
       "  <thead>\n",
       "    <tr style=\"text-align: right;\">\n",
       "      <th></th>\n",
       "      <th>NoOfInvoices</th>\n",
       "      <th>NoOfUniqueItems</th>\n",
       "      <th>TotalQuantity</th>\n",
       "      <th>UnitPriceMean</th>\n",
       "      <th>UnitPriceStd</th>\n",
       "      <th>QuantityPerInvoice</th>\n",
       "      <th>UniqueItemsPerInvoice</th>\n",
       "    </tr>\n",
       "    <tr>\n",
       "      <th>Clusters</th>\n",
       "      <th></th>\n",
       "      <th></th>\n",
       "      <th></th>\n",
       "      <th></th>\n",
       "      <th></th>\n",
       "      <th></th>\n",
       "      <th></th>\n",
       "    </tr>\n",
       "  </thead>\n",
       "  <tbody>\n",
       "    <tr>\n",
       "      <th>0</th>\n",
       "      <td>0.005931</td>\n",
       "      <td>0.016862</td>\n",
       "      <td>0.002017</td>\n",
       "      <td>0.002553</td>\n",
       "      <td>0.004854</td>\n",
       "      <td>0.050146</td>\n",
       "      <td>0.066694</td>\n",
       "    </tr>\n",
       "    <tr>\n",
       "      <th>1</th>\n",
       "      <td>0.037527</td>\n",
       "      <td>0.072917</td>\n",
       "      <td>0.014673</td>\n",
       "      <td>0.001418</td>\n",
       "      <td>0.005851</td>\n",
       "      <td>0.106782</td>\n",
       "      <td>0.126078</td>\n",
       "    </tr>\n",
       "  </tbody>\n",
       "</table>\n",
       "</div>"
      ],
      "text/plain": [
       "          NoOfInvoices  NoOfUniqueItems  TotalQuantity  UnitPriceMean  \\\n",
       "Clusters                                                                \n",
       "0             0.005931         0.016862       0.002017       0.002553   \n",
       "1             0.037527         0.072917       0.014673       0.001418   \n",
       "\n",
       "          UnitPriceStd  QuantityPerInvoice  UniqueItemsPerInvoice  \n",
       "Clusters                                                           \n",
       "0             0.004854            0.050146               0.066694  \n",
       "1             0.005851            0.106782               0.126078  "
      ]
     },
     "execution_count": 29,
     "metadata": {},
     "output_type": "execute_result"
    }
   ],
   "source": [
    "gmm_df.groupby(by='Clusters').mean()"
   ]
  },
  {
   "cell_type": "code",
   "execution_count": 31,
   "metadata": {},
   "outputs": [],
   "source": [
    "gmm_df.to_csv('data/gmm_df.csv', sep=',',encoding='ISO-8859-1')"
   ]
  },
  {
   "cell_type": "markdown",
   "metadata": {},
   "source": [
    "__List two ways to improve the clustering and implement at least one.__\n",
    " - Removing Outliers \n",
    " - Scaling variables before running the clustering algorithms"
   ]
  },
  {
   "cell_type": "markdown",
   "metadata": {},
   "source": [
    "### Outliers \n",
    "[Introduction to Outliers](https://towardsdatascience.com/a-brief-overview-of-outlier-detection-techniques-1e0b2c19e561)\n",
    "\n",
    "1. Do outliers influence the results of your Hierarchical Clustering, K-means and GMM models?  \n",
    "2. Do the outliers themselves form clusters? "
   ]
  },
  {
   "cell_type": "markdown",
   "metadata": {},
   "source": [
    "__Outliers Influence__\n",
    " - OUtliers influence both Hierarchial and K-means while GMM to a lesser degree<br/>\n",
    " \n",
    "__Outliers forming clusters__\n",
    " - Sometimes, they do. But if they are not close to each other, then not"
   ]
  },
  {
   "cell_type": "markdown",
   "metadata": {},
   "source": [
    "### Validating clusters  \n",
    "\n",
    "1. Use at least three techniques to validate that your chosen clusters correspond to meaningful customer segments. You may consider a combination of using visualisations and/or quantitative metrics (refer to Elements of Statistical Learning for some examples)"
   ]
  },
  {
   "cell_type": "markdown",
   "metadata": {},
   "source": [
    "__TSNE plot__"
   ]
  },
  {
   "cell_type": "code",
   "execution_count": 32,
   "metadata": {},
   "outputs": [
    {
     "name": "stdout",
     "output_type": "stream",
     "text": [
      "Hierarchial Clustering\n"
     ]
    },
    {
     "data": {
      "image/png": "[encoded data removed]",
      "text/plain": [
       "<Figure size 408.75x360 with 1 Axes>"
      ]
     },
     "metadata": {
      "needs_background": "light"
     },
     "output_type": "display_data"
    }
   ],
   "source": [
    "import warnings\n",
    "warnings.simplefilter(action='ignore', category=FutureWarning)\n",
    "print(\"Hierarchial Clustering\")\n",
    "plotSNE(hierarchial_df[['Clusters']])\n"
   ]
  },
  {
   "cell_type": "code",
   "execution_count": 33,
   "metadata": {},
   "outputs": [
    {
     "name": "stdout",
     "output_type": "stream",
     "text": [
      "Kmeans Clustering\n"
     ]
    },
    {
     "data": {
      "image/png": "[encoded data removed]",
      "text/plain": [
       "<Figure size 408.75x360 with 1 Axes>"
      ]
     },
     "metadata": {
      "needs_background": "light"
     },
     "output_type": "display_data"
    }
   ],
   "source": [
    "import warnings\n",
    "warnings.simplefilter(action='ignore', category=FutureWarning)\n",
    "print(\"Kmeans Clustering\")\n",
    "plotSNE(kmeans_df[['Clusters']])\n"
   ]
  },
  {
   "cell_type": "code",
   "execution_count": 34,
   "metadata": {},
   "outputs": [
    {
     "name": "stdout",
     "output_type": "stream",
     "text": [
      "Gaussian Clustering\n"
     ]
    },
    {
     "data": {
      "image/png": "[encoded data removed]",
      "text/plain": [
       "<Figure size 408.75x360 with 1 Axes>"
      ]
     },
     "metadata": {
      "needs_background": "light"
     },
     "output_type": "display_data"
    }
   ],
   "source": [
    "import warnings\n",
    "warnings.simplefilter(action='ignore', category=FutureWarning)\n",
    "print(\"Gaussian Clustering\")\n",
    "plotSNE(gmm_df[['Clusters']])"
   ]
  },
  {
   "cell_type": "markdown",
   "metadata": {},
   "source": [
    "__Silhouette Scores__\n",
    "- The score is higher when clusters are dense and well separated, which relates to a standard concept of a cluster."
   ]
  },
  {
   "cell_type": "code",
   "execution_count": 35,
   "metadata": {},
   "outputs": [
    {
     "name": "stdout",
     "output_type": "stream",
     "text": [
      "Silhouette Scores for hierarchial Clustering is 0.885435\n",
      "Silhouette Scores for Kmeans Clustering is 0.480047\n",
      "Silhouette Scores for GMM Clustering is 0.340929\n"
     ]
    }
   ],
   "source": [
    "print(\"Silhouette Scores for hierarchial Clustering is %f\"\n",
    "      %(metrics.silhouette_score(df1_normalized_df, hierarchial_df['Clusters'])))\n",
    "print(\"Silhouette Scores for Kmeans Clustering is %f\"\n",
    "      %(metrics.silhouette_score(df1_normalized_df, kmeans_df['Clusters'])))\n",
    "print(\"Silhouette Scores for GMM Clustering is %f\"\n",
    "      %(metrics.silhouette_score(df1_normalized_df, gmm_df['Clusters'])))\n",
    "    "
   ]
  },
  {
   "cell_type": "code",
   "execution_count": 36,
   "metadata": {},
   "outputs": [
    {
     "name": "stdout",
     "output_type": "stream",
     "text": [
      "Calinski_harabaz Scores for hierarchial Clustering is 313.156567\n",
      "Calinski_harabaz Scores for Kmeans Clustering is 1416.195282\n",
      "Calinski_harabaz Scores for GMM Clustering is 748.291137\n"
     ]
    }
   ],
   "source": [
    "print(\"Calinski_harabaz Scores for hierarchial Clustering is %f\"\n",
    "      %(metrics.calinski_harabaz_score(df1_normalized_df, hierarchial_df['Clusters'])))\n",
    "print(\"Calinski_harabaz Scores for Kmeans Clustering is %f\"\n",
    "      %(metrics.calinski_harabaz_score(df1_normalized_df, kmeans_df['Clusters'])))\n",
    "print(\"Calinski_harabaz Scores for GMM Clustering is %f\"\n",
    "      %(metrics.calinski_harabaz_score(df1_normalized_df, gmm_df['Clusters'])))"
   ]
  },
  {
   "cell_type": "markdown",
   "metadata": {},
   "source": [
    "### Model selection\n",
    "\n",
    "1. Explain when it is appropriate to use K-Means, GMM and Hierarchical Clustering \n",
    "2. Which model would you choose for this dataset? "
   ]
  },
  {
   "cell_type": "markdown",
   "metadata": {},
   "source": [
    "| Hierarchial Distribution | KMeans | Gaussian Mixture Models |\n",
    "| --- | --- | --- |\n",
    "|High Time Complexity | Assumes clusters are spherical| Works with non-spherical cluster shapes |\n",
    "| Same results on repeated runs||Hard Assignment of points|Probabilistic assignment (Soft assignment) of Points|\n",
    "| No Prior knowledge of K required| Easy to interpret|Hard to interpret|\n",
    "\n",
    "\n",
    "\n"
   ]
  },
  {
   "cell_type": "code",
   "execution_count": null,
   "metadata": {},
   "outputs": [],
   "source": [
    "kmeans_df['Clusters']=kmeans_df['Clusters'].astype(str)\n",
    "gmm_df['Clusters']=gmm_df['Clusters'].astype(str)"
   ]
  },
  {
   "cell_type": "code",
   "execution_count": null,
   "metadata": {},
   "outputs": [],
   "source": [
    "import warnings\n",
    "warnings.simplefilter(action='ignore', category=RuntimeWarning)\n",
    "print(\"PairPlot of KMeans\")\n",
    "sns.pairplot(data=kmeans_df,hue='Clusters')"
   ]
  },
  {
   "cell_type": "code",
   "execution_count": null,
   "metadata": {},
   "outputs": [],
   "source": [
    "import warnings\n",
    "warnings.simplefilter(action='ignore', category=RuntimeWarning)\n",
    "print(\"PairPlot of GMM\")\n",
    "sns.pairplot(data=gmm_df,hue='Clusters')"
   ]
  },
  {
   "cell_type": "markdown",
   "metadata": {},
   "source": [
    "__Better Model__\n",
    "- Visualising both the pairplots seems GMM has done a better separation."
   ]
  },
  {
   "cell_type": "markdown",
   "metadata": {},
   "source": [
    "### Opening the black box of clustering [reference pg 503](https://web.stanford.edu/~hastie/Papers/ESLII.pdf)\n",
    "\n",
    "1. In your own words, explain the broad idea behind building a proximity matrix to cluster data. (This should also be verbally presented during Monday's presentation). \n",
    "*Sometimes, typing values into MS Excel helps with building intuition"
   ]
  },
  {
   "cell_type": "code",
   "execution_count": 43,
   "metadata": {},
   "outputs": [
    {
     "data": {
      "text/plain": [
       "<matplotlib.axes._subplots.AxesSubplot at 0x7fd4986cd4a8>"
      ]
     },
     "execution_count": 43,
     "metadata": {},
     "output_type": "execute_result"
    },
    {
     "data": {
      "image/png": "[encoded data removed]",
      "text/plain": [
       "<Figure size 432x288 with 1 Axes>"
      ]
     },
     "metadata": {
      "needs_background": "light"
     },
     "output_type": "display_data"
    }
   ],
   "source": [
    "from scipy.spatial import distance_matrix\n",
    "data=[[.4,.53],[.22,.38],[.35,.32],[.26,.19],[.08,.41],[.45,.30]]\n",
    "pts=['p1','p2','p3','p4','p5','p6']\n",
    "df =pd.DataFrame(data,columns=['x','y'],index=pts)\n",
    "dist1=pd.DataFrame(distance_matrix(df.values, df.values), index=df.index, columns=df.index)\n",
    "\n",
    "sns.scatterplot(x=\"x\", y=\"y\", data=df)"
   ]
  },
  {
   "attachments": {
    "image.png": {
     "image/png": "[encoded data removed]"
    }
   },
   "cell_type": "markdown",
   "metadata": {},
   "source": [
    "![image.png](attachment:image.png)"
   ]
  },
  {
   "cell_type": "markdown",
   "metadata": {},
   "source": [
    "2. In your own words, how would you calculate the disimilarity between objects in a dataset? (This should also be verbally presented during Monday's presentation)"
   ]
  },
  {
   "cell_type": "markdown",
   "metadata": {},
   "source": [
    "__Numeric values__\n",
    "- Euclidean distance\n",
    "- Manhatten distance\n",
    "\n",
    "__Similarity between categories__\n",
    " - Jaccard Index \n",
    " Jaccard Index = (the number in both sets) / (the number in either set) * 100\n",
    " - Buying similar items means they will have a higher Jacquard Index\n",
    " \n",
    "__String__\n",
    " - Hamming Distance\n",
    " - How similar are strings from one another\n",
    " \n",
    "__Distance Matrix__\n",
    "Based on the above condtions, distance matrix values could be \n"
   ]
  },
  {
   "cell_type": "markdown",
   "metadata": {},
   "source": [
    "### PCA for Dimensionality Reduction \n",
    "\n",
    "1. Using the dataset that you have pre-processed, construct a pairplot again. How is it different from the a plot of the raw data and what is your interpretation?  \n",
    "2. Apply PCA pre-processed dataset. More information on PCA here [link]\n",
    "3. Create a plot of cumulative explained variance and number of components. How does this inform you about the best number of components to select? \n",
    "4. Create a plot of PC0 against PC1, coloured by the GMM's predictions on the normalised dataset with outliers removed for n_components =7\n",
    "5. How would you connect the Princip"
   ]
  },
  {
   "cell_type": "code",
   "execution_count": 39,
   "metadata": {},
   "outputs": [
    {
     "data": {
      "text/plain": [
       "[<matplotlib.lines.Line2D at 0x7fd4986c3710>]"
      ]
     },
     "execution_count": 39,
     "metadata": {},
     "output_type": "execute_result"
    },
    {
     "data": {
      "image/png": "[encoded data removed]",
      "text/plain": [
       "<Figure size 432x288 with 1 Axes>"
      ]
     },
     "metadata": {
      "needs_background": "light"
     },
     "output_type": "display_data"
    }
   ],
   "source": [
    "from sklearn.decomposition import PCA\n",
    "pca = PCA(n_components=7)\n",
    "principalComponents = pca.fit_transform(df1_normalized_df)\n",
    "\n",
    "# principalDf = pd.DataFrame(data = principalComponents\n",
    "#              , columns = ['principal component 1', 'principal component 2'])\n",
    "\n",
    "variance = pca.explained_variance_ratio_ #calculate variance ratios\n",
    "\n",
    "var=np.cumsum(np.round(pca.explained_variance_ratio_, decimals=3)*100)\n",
    "var #cumulative sum of variance explained with [n] features\n",
    "plt.ylabel('% Variance Explained')\n",
    "plt.xlabel('# of Features')\n",
    "plt.title('PCA Analysis')\n",
    "plt.ylim(30,100.5)\n",
    "plt.style.context('seaborn-whitegrid')\n",
    "\n",
    "\n",
    "plt.plot(var)"
   ]
  },
  {
   "cell_type": "markdown",
   "metadata": {},
   "source": [
    "__PCA Results__\n",
    "- Seems 3 PCA components are enough to explain 90% of the variance"
   ]
  },
  {
   "cell_type": "code",
   "execution_count": 40,
   "metadata": {},
   "outputs": [],
   "source": [
    "principalDf = pd.DataFrame(data = principalComponents[:,0:2]\n",
    "             , columns = ['pca 0','pca 1'],\n",
    "            index=df1_normalized_df.index)\n",
    "pca_gmm_df = pd.concat([principalDf,gmm_df],axis=1)"
   ]
  },
  {
   "cell_type": "code",
   "execution_count": 41,
   "metadata": {},
   "outputs": [
    {
     "data": {
      "text/plain": [
       "<seaborn.axisgrid.FacetGrid at 0x7fd4986d3ef0>"
      ]
     },
     "execution_count": 41,
     "metadata": {},
     "output_type": "execute_result"
    },
    {
     "data": {
      "image/png": "[encoded data removed]",
      "text/plain": [
       "<Figure size 408.75x360 with 1 Axes>"
      ]
     },
     "metadata": {
      "needs_background": "light"
     },
     "output_type": "display_data"
    }
   ],
   "source": [
    "sns.lmplot(x='pca 0',y='pca 1',hue='Clusters',data=pca_gmm_df,x_jitter=0.1,y_jitter=.1)"
   ]
  }
 ],
 "metadata": {
  "kernelspec": {
   "display_name": "Python 3",
   "language": "python",
   "name": "python3"
  },
  "language_info": {
   "codemirror_mode": {
    "name": "ipython",
    "version": 3
   },
   "file_extension": ".py",
   "mimetype": "text/x-python",
   "name": "python",
   "nbconvert_exporter": "python",
   "pygments_lexer": "ipython3",
   "version": "3.7.0"
  },
  "toc": {
   "base_numbering": 1,
   "nav_menu": {},
   "number_sections": true,
   "sideBar": true,
   "skip_h1_title": false,
   "title_cell": "Table of Contents",
   "title_sidebar": "Contents",
   "toc_cell": false,
   "toc_position": {},
   "toc_section_display": true,
   "toc_window_display": false
  },
  "widgets": {
   "application/vnd.jupyter.widget-state+json": {
    "state": {},
    "version_major": 2,
    "version_minor": 0
   }
  }
 },
 "nbformat": 4,
 "nbformat_minor": 2
}
