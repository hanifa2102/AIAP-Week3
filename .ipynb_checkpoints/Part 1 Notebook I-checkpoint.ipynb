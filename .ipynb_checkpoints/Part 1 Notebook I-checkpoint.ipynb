{
 "cells": [
  {
   "cell_type": "markdown",
   "metadata": {},
   "source": [
    "# Overview of Week 3"
   ]
  },
  {
   "cell_type": "markdown",
   "metadata": {},
   "source": [
    "This week's assignment consists of two parts. The first part gives you an introduction to unsupervised learning. In particular, we focus on techniques for clustering and dimensionality reduction and how they can be applied to ecommerce data. As you work through the three clustering case studies, you will find yourself generating many intermediate datasets, trying different models, and tuning each model as you go along. There's a lot to keep track of.   \n",
    "\n",
    "This is where Part 2 comes in. It is in Part 2 that we introduce ideas of **workflow management** and **computational reproducibility**. Workflow management means organising your project directory to manage your analysis' artefacts (visualisations, processed datasets, notebooks and utility functions and experiment results). Ideally, your code for these should be clearly commented with well chosen names. Computational reproducibility means someone else (including future you!) being able to take just the code and data, and reproduce your project, from its results and models to visualisations etc. How one decides to practice workflow management and computational reproducibility can be quite a personal decision. Therefore, we provide guidelines, not rules. The most important is having a system rather than no system at all. \n",
    "\n",
    "**note about the week**   \n",
    "While week 1's assignment was guided, with specific instructions about what code to run, as we move on the assignments will involve less hand-holding. For this week, we include some instructions, but leave the specific implementations up to you. There are also many techniques we cover. Again, while we share some resources, we leave the bulk of the research and background reading up to you to manage for yourself. As a record of how well you have synthesised your readings, this notebook has space for writing a few paragraphs of explanations. We hope you won't be content with a shallow explanation, and that you use this space to apply the [Feynmann technique](https://collegeinfogeek.com/feynman-technique/) as a check of understanding. \n",
    "\n",
    "To tie Part 1 and Part 2 of the week together, we are not just asking for one Jupyter Notebook as a final deliverable. Instead, there are four deliverables to the week: \n",
    "\n",
    "**1. Part 1 Notebook I and II exercises presented at the end of the week job-interview style**\n",
    "\n",
    "**2. A script that automates the data cleaning and feature engineering steps you take so your findings are reproducible (see Part 2 Notebook I for more info)**\n",
    "\n",
    "**3. A repo README.md (see Part 2 Notebook I for more info)**\n",
    "\n",
    "**4  A record of software package versions and software environment used (see Part 2 Notebook I for more info)**   \n",
    "\n",
    "**recap of the objectives for the first 6 weeks:**  \n",
    "We aim to broadly cover a wide range of Machine Learning algorithms so that you can: \n",
    "- handle the technical demands of a 100E given some guidance on the right direction to take \n",
    "- can handle a technical job interview and get hired \n",
    "\n",
    "*materials for unsupervised learning adapted from William Thji* "
   ]
  },
  {
   "cell_type": "markdown",
   "metadata": {},
   "source": [
    "# Part I : Unsupervised Learning \n",
    "Unsupervised Learning refers to a set of machine learning techniques where no output variables (Y) are given. Only the input variables (X) are available and our job is to find patterns in X. You may read more about it from *pg 485 from Hastie and Tibshirani's Elements of Statistical Learning* available [here](https://web.stanford.edu/~hastie/Papers/ESLII.pdf). \n",
    "\n",
    "ESL by Hastie et. al with be the primary reference for this week, although feel free to source for your own books and links. "
   ]
  },
  {
   "cell_type": "markdown",
   "metadata": {},
   "source": [
    "## Short introduction to clustering \n",
    "Clustering puts datapoints into subsets so that datapoints within a cluster are more closely related to one another compared to datapoints in another cluster. More information is available from page 501 of *Elements of Statistical Learning*. \n",
    "\n",
    "Some quick points: \n",
    "- Clustering is extremely useful to many fields: \n",
    "    - Customer segmentation for personalised product recommendations\n",
    "    - Topic identification to relieve the need to manually vet documents \n",
    "    - Image or geo-spatial segmentation to optimised supply and demand (Gojek does this) \n",
    "    - and maybe most importantly, getting a sense of the data before starting to model it. \n",
    "\n",
    "- Some examples of clustering algorithms: \n",
    "    - KMeans\n",
    "    - Gaussian Mixture Models for drawing soft clustering boundaries instead of hard ones \n",
    "    - Hierarchical clustering\n",
    "    - DBScan for density-based clustering for anomaly detection \n",
    "    - Co-clustering\n",
    "    - Biclustering for analysing genes"
   ]
  },
  {
   "cell_type": "code",
   "execution_count": 1,
   "metadata": {},
   "outputs": [],
   "source": [
    "import pandas as pd\n",
    "import numpy as np\n",
    "import matplotlib.pyplot as plt\n",
    "import seaborn as sns\n",
    "%matplotlib inline\n",
    "from scipy.cluster.hierarchy import linkage,dendrogram\n",
    "from sklearn import preprocessing\n",
    "import matplotlib.pyplot as plt\n",
    "from scipy.cluster.hierarchy import cophenet\n",
    "from scipy.spatial.distance import pdist\n",
    "from scipy.cluster.hierarchy import fcluster\n",
    "from sklearn.preprocessing import StandardScaler\n",
    "from sklearn.preprocessing import MinMaxScaler\n",
    "from sklearn.cluster import KMeans\n",
    "from sklearn.mixture import GaussianMixture #For GMM clustering\n",
    "from sklearn import metrics"
   ]
  },
  {
   "cell_type": "code",
   "execution_count": 2,
   "metadata": {
    "code_folding": [
     57
    ]
   },
   "outputs": [],
   "source": [
    "def isDataClean(df):\n",
    "    print(\"Numeric Data\")\n",
    "    print(df.describe())\n",
    "    print(\"\")\n",
    "    print(\"Categorical Data\")\n",
    "    print(df.describe(include=['O']))\n",
    "    print(\"\")\n",
    "    print(\"NAs in Data\")\n",
    "    print(df.isnull().any())\n",
    "    print(\"\\nSize of df\")\n",
    "    print(df.shape)\n",
    "\n",
    "def cleanData(df):\n",
    "    df=df[df['CustomerID'].notnull()]\n",
    "    df=df[df['Quantity']>0]\n",
    "    Quantity_min,Quantity_max=df['Quantity'].mean()-2* np.std(df['Quantity']),df['Quantity'].mean()+2* np.std(df['Quantity'])\n",
    "    df=df[(df['Quantity']>=Quantity_min) & (df['Quantity']<=Quantity_max)]\n",
    "    df['CustomerID']=df['CustomerID'].astype(int).astype(int)\n",
    "    return df\n",
    "\n",
    "def transformScaleData(df):\n",
    "    df1=(df.groupby('CustomerID')\n",
    "    .agg({'InvoiceNo': 'nunique',\n",
    "          'StockCode': 'nunique',\n",
    "          'Quantity':'sum',\n",
    "          'UnitPrice':'mean'\n",
    "         })\n",
    "    .rename(columns={'InvoiceNo': 'NoOfInvoices', \n",
    "                     'StockCode': 'NoOfUniqueItems',\n",
    "                     'Quantity':'TotalQuantity',\n",
    "                     'UnitPrice':'UnitPriceMean'\n",
    "                    })\n",
    "    )\n",
    "\n",
    "    df2=(df.groupby('CustomerID')\n",
    "    .agg({\n",
    "          'UnitPrice':'std'\n",
    "         })\n",
    "    .rename(columns={'UnitPrice':'UnitPriceStd'\n",
    "                    })\n",
    "    )\n",
    "\n",
    "    df1=df1.join(df2,how='inner')\n",
    "\n",
    "    df1['QuantityPerInvoice']=df1['TotalQuantity']/df1['NoOfInvoices']\n",
    "    df1['UniqueItemsPerInvoice']= df1['NoOfUniqueItems']/df1['NoOfInvoices']\n",
    "    df1.fillna({'UnitPriceStd':0},inplace=True)\n",
    "\n",
    "    stdScaler = StandardScaler()\n",
    "    df1_normalized=stdScaler.fit_transform(df1)\n",
    "    \n",
    "    df1_normalized_df= pd.DataFrame(data=df1_normalized,\n",
    "                          index=df1.index,\n",
    "                          columns=df1.columns)\n",
    "    \n",
    "    return df1,df1_normalized_df\n",
    "\n",
    "def SelBest(arr:list, X:int)->list:\n",
    "    '''\n",
    "    returns the set of X configurations with shorter distance\n",
    "    '''\n",
    "    dx=np.argsort(arr)[:X]\n",
    "    return arr[dx]\n",
    "    "
   ]
  },
  {
   "cell_type": "code",
   "execution_count": 3,
   "metadata": {},
   "outputs": [],
   "source": [
    "#Run Main\n",
    "df = pd.read_csv('data/raw/data.csv', encoding='ISO-8859-1')\n",
    "df = cleanData(df)\n",
    "df1,df1_normalized=transformScaleData(df)\n",
    "df.to_csv('data/clean_data.csv', sep=',',encoding='ISO-8859-1')\n"
   ]
  },
  {
   "cell_type": "markdown",
   "metadata": {},
   "source": [
    "## Deliverable 1: Complete the Clustering Case Study: Using PCA and clustering to uncover customer segments \n",
    "Context: The dataset we will be working with contains ecommerce transactions from a UK-based online retails store. The dataset is available on [Kaggle](https://www.kaggle.com/carrie1/ecommerce-data/home) or the UCI Machine Learning Repository. The dataset is quite small, so we have also included it inside the `data` folder inside this repo as `data/raw/data.csv`. \n",
    "\n",
    "From the Kaggle website: \n",
    "\n",
    "\"This is a transnational data set which contains all the transactions occurring between 01/12/2010 and 09/12/2011 for a UK-based and registered non-store online retail.The company mainly sells unique all-occasion gifts. Many customers of the company are wholesalers.\"\n",
    "\n",
    "### Case Study Goal \n",
    "Cluster the dataset into meaningful customer segments. This means creating clusters that are statistically robust and that make business sense. \n"
   ]
  },
  {
   "cell_type": "code",
   "execution_count": null,
   "metadata": {},
   "outputs": [],
   "source": [
    "import pandas as pd \n",
    "df = pd.read_csv('data/raw/data.csv', encoding='ISO-8859-1')\n",
    "df.head()"
   ]
  },
  {
   "cell_type": "markdown",
   "metadata": {},
   "source": [
    "### Cleaning data \n",
    "\n",
    "Some data types are muddled, there are duplicates, NA values and unreasonable values hiding in the columns \n",
    "\n",
    "1. Clean the dataset. You may want to list the steps taken to clean the data and encapsulate the steps inside their own functions so they can be reused. Organise the functions into their own library"
   ]
  },
  {
   "cell_type": "code",
   "execution_count": null,
   "metadata": {},
   "outputs": [],
   "source": [
    "df=df[df['CustomerID'].notnull()]\n",
    "# isDataClean(df)"
   ]
  },
  {
   "cell_type": "code",
   "execution_count": null,
   "metadata": {},
   "outputs": [],
   "source": [
    "df=df[df['Quantity']>0]\n",
    "# isDataClean(df)"
   ]
  },
  {
   "cell_type": "code",
   "execution_count": null,
   "metadata": {},
   "outputs": [],
   "source": [
    "sns.distplot(df.Quantity)"
   ]
  },
  {
   "cell_type": "code",
   "execution_count": null,
   "metadata": {},
   "outputs": [],
   "source": [
    "Quantity_min,Quantity_max=df['Quantity'].mean()-2* np.std(df['Quantity']),df['Quantity'].mean()+2* np.std(df['Quantity'])\n",
    "df=df[(df['Quantity']>=Quantity_min) & (df['Quantity']<=Quantity_max)]\n",
    "# isDataClean(df)"
   ]
  },
  {
   "cell_type": "code",
   "execution_count": null,
   "metadata": {
    "code_folding": []
   },
   "outputs": [],
   "source": [
    "# x=df[['CustomerID','InvoiceNo']].drop_duplicates().groupby(by=['InvoiceNo'])['CustomerID'].nunique()\n",
    "# x_df = x.to_frame().reset_index()\n",
    "# x_df.sort_values('CustomerID',ascending=False)"
   ]
  },
  {
   "cell_type": "markdown",
   "metadata": {},
   "source": [
    "### EDA"
   ]
  },
  {
   "cell_type": "code",
   "execution_count": null,
   "metadata": {},
   "outputs": [],
   "source": [
    "df['Country'].value_counts(normalize=True)"
   ]
  },
  {
   "cell_type": "code",
   "execution_count": null,
   "metadata": {},
   "outputs": [],
   "source": [
    "df['CustomerID']=df['CustomerID'].astype(int).astype(int)"
   ]
  },
  {
   "cell_type": "markdown",
   "metadata": {},
   "source": [
    "### Feature Engineering iteration #1 \n",
    "\n",
    "Inside the dataset, each row contains information about an ecommerce transation. However, we want to cluster the data by customers, which means each row should instead contain information about a customer. \n",
    "\n",
    "1. Reshape the data to follow the format below: \n",
    "![alt text](customer.png)\n",
    "\n",
    "The dataframe should have these columns: `['NoOfInvoices', 'NoOfUniqueItems', 'QuantityPerInvoice', 'TotalQuantity', 'UniqueItemsPerInvoice','UnitPriceMean','UnitPriceStd']` \n",
    "2. Save this dataset as an intermediate dataset "
   ]
  },
  {
   "cell_type": "code",
   "execution_count": null,
   "metadata": {
    "code_folding": [
     0
    ]
   },
   "outputs": [],
   "source": [
    "df1=(df.groupby('CustomerID')\n",
    "    .agg({'InvoiceNo': 'nunique',\n",
    "          'StockCode': 'nunique',\n",
    "          'Quantity':'sum',\n",
    "          'UnitPrice':'mean'\n",
    "         })\n",
    "    .rename(columns={'InvoiceNo': 'NoOfInvoices', \n",
    "                     'StockCode': 'NoOfUniqueItems',\n",
    "                     'Quantity':'TotalQuantity',\n",
    "                     'UnitPrice':'UnitPriceMean'\n",
    "                    })\n",
    ")\n",
    "\n",
    "df2=(df.groupby('CustomerID')\n",
    "    .agg({\n",
    "          'UnitPrice':'std'\n",
    "         })\n",
    "    .rename(columns={'UnitPrice':'UnitPriceStd'\n",
    "                    })\n",
    ")\n",
    "\n",
    "df1=df1.join(df2,how='inner')\n",
    "\n",
    "df1['QuantityPerInvoice']=df1['TotalQuantity']/df1['NoOfInvoices']\n",
    "df1['UniqueItemsPerInvoice']= df1['NoOfUniqueItems']/df1['NoOfInvoices']\n",
    "df1.head()\n",
    "\n"
   ]
  },
  {
   "cell_type": "code",
   "execution_count": null,
   "metadata": {},
   "outputs": [],
   "source": [
    "print(\"NAs in Data\")\n",
    "print(df1.isnull().any())"
   ]
  },
  {
   "cell_type": "code",
   "execution_count": null,
   "metadata": {},
   "outputs": [],
   "source": [
    "df1.fillna({'UnitPriceStd':0},inplace=True)"
   ]
  },
  {
   "cell_type": "code",
   "execution_count": 14,
   "metadata": {},
   "outputs": [],
   "source": [
    "stdScaler = MinMaxScaler()\n",
    "df1_normalized=stdScaler.fit_transform(df1)"
   ]
  },
  {
   "cell_type": "code",
   "execution_count": 42,
   "metadata": {},
   "outputs": [],
   "source": [
    "df1_normalized_df= pd.DataFrame(df1_normalized,columns=df1.columns)"
   ]
  },
  {
   "cell_type": "code",
   "execution_count": 45,
   "metadata": {},
   "outputs": [],
   "source": [
    "del df1_normalized"
   ]
  },
  {
   "cell_type": "markdown",
   "metadata": {},
   "source": [
    "### Hierarchical clustering iteration #1 [reference pg 520](https://web.stanford.edu/~hastie/Papers/ESLII.pdf)\n",
    "\n",
    "1. Implement any more preprocessing or visualisation steps you feel are necessary to understand how you might build meaningful clusters from the data. \n",
    "2. Apply hierarchical clustering to the dataset. \n",
    "2. Experiment with different linkage algorithms. Visualise the resulting trees for average linkage, complete linkage and single linkage side-by-side. Which linkage algorithm works best? \n",
    "3. List two ways to improve the clustering and implement at least one. Track the results of the first iteration and second iteration (whether with Excel, TextEdit or within this notebook itself).\n",
    "    - __Create a distance matrix in excel (with a few sample points)__\n",
    "4. Describe the clusters you selected and evaluate whether or not they form meaningful segments. \n",
    "    - __Group them and check the variation of the values__"
   ]
  },
  {
   "cell_type": "markdown",
   "metadata": {},
   "source": [
    "#### Visualization Steps\n",
    "- Using T-Sne, to precalculate the number of clusters prior\n",
    "- Expect 2-3 clusters"
   ]
  },
  {
   "cell_type": "code",
   "execution_count": null,
   "metadata": {},
   "outputs": [],
   "source": [
    "# from sklearn.manifold import TSNE\n",
    "# model = TSNE(learning_rate=100)\n",
    "# transformed=model.fit_transform(df1_normalized)\n",
    "# xs=transformed[:,0]\n",
    "# ys=transformed[:,1]\n",
    "# plt.scatter(xs,ys)\n",
    "# plt.show()\n",
    "# # df_tmp=pd.DataFrame(transformed,columns=['x','y'])\n",
    "# # sns.lmplot(x=\"x\",y=\"y\",data=df_tmp)\n",
    "\n",
    "# def plotTSNE(clusteringdf):\n",
    "#     model = TSNE(learning_rate=100)\n",
    "#     transformed=model.fit_transform(clusteringdf)\n",
    "    \n",
    "    "
   ]
  },
  {
   "cell_type": "markdown",
   "metadata": {},
   "source": [
    "__Hierarchial Clustering__\n",
    "- Trying with different linkages"
   ]
  },
  {
   "cell_type": "code",
   "execution_count": 46,
   "metadata": {},
   "outputs": [],
   "source": [
    "def plotHierarchialClustering(method_str):\n",
    "\n",
    "    mergings = linkage(df1_normalized_df, method=method_str)\n",
    "    fig=plt.figure(figsize = (7,4))\n",
    "    ax=fig.add_subplot(111)\n",
    "    ax.set(title=method_str,xlabel='Clusters',ylabel='Height')\n",
    "    dendrogram(mergings,\n",
    "               labels=df1.index.values,\n",
    "               ax=ax,\n",
    "               truncate_mode='lastp',\n",
    "               orientation='top',\n",
    "               show_leaf_counts=True\n",
    "    )\n",
    "    c, coph_dists = cophenet(mergings, pdist(df1_normalized_df))\n",
    "#     print (\"My name is %s and weight is %d kg!\" % ('Zara', 21))\n",
    "    print(\"For %s linkage, cophenet score is %f\"%(method_str,c))\n",
    "    plt.show()\n",
    "    return\n",
    "\n",
    "\n",
    "\n"
   ]
  },
  {
   "cell_type": "code",
   "execution_count": 47,
   "metadata": {},
   "outputs": [
    {
     "name": "stdout",
     "output_type": "stream",
     "text": [
      "For single linkage, cophenet score is 0.831744\n"
     ]
    },
    {
     "data": {
      "image/png": "[encoded data removed]",
      "text/plain": [
       "<Figure size 504x288 with 1 Axes>"
      ]
     },
     "metadata": {
      "needs_background": "light"
     },
     "output_type": "display_data"
    },
    {
     "name": "stdout",
     "output_type": "stream",
     "text": [
      "For complete linkage, cophenet score is 0.796371\n"
     ]
    },
    {
     "data": {
      "image/png": "[encoded data removed]",
      "text/plain": [
       "<Figure size 504x288 with 1 Axes>"
      ]
     },
     "metadata": {
      "needs_background": "light"
     },
     "output_type": "display_data"
    },
    {
     "name": "stdout",
     "output_type": "stream",
     "text": [
      "For average linkage, cophenet score is 0.930234\n"
     ]
    },
    {
     "data": {
      "image/png": "[encoded data removed]",
      "text/plain": [
       "<Figure size 504x288 with 1 Axes>"
      ]
     },
     "metadata": {
      "needs_background": "light"
     },
     "output_type": "display_data"
    },
    {
     "name": "stdout",
     "output_type": "stream",
     "text": [
      "For ward linkage, cophenet score is 0.566120\n"
     ]
    },
    {
     "data": {
      "image/png": "[encoded data removed]",
      "text/plain": [
       "<Figure size 504x288 with 1 Axes>"
      ]
     },
     "metadata": {
      "needs_background": "light"
     },
     "output_type": "display_data"
    }
   ],
   "source": [
    "for i in ['single','complete','average','ward']:\n",
    "    plotHierarchialClustering(i)"
   ]
  },
  {
   "cell_type": "markdown",
   "metadata": {},
   "source": [
    "__Choosing best linkage__\n",
    "- Cophenetic score is used to judge the goodness of the hierarchial clustering. Points which are close together should be clustered close together.\n",
    "- In that respect, Average Linkage gives the best score"
   ]
  },
  {
   "cell_type": "markdown",
   "metadata": {},
   "source": [
    "__Listing Two ways to improve Hierarchial Clustering__\n",
    "- Outliers should be removed (Leads to imbalanced trees)\n",
    "- Scaling should be used as euclidean distances will become biased."
   ]
  },
  {
   "cell_type": "code",
   "execution_count": 90,
   "metadata": {},
   "outputs": [],
   "source": [
    "def createClusteringDF(clustering_labels):\n",
    "    clustering_df = pd.concat([df1_normalized_df,\n",
    "                            pd.DataFrame(clustering_labels.reshape(-1,1),columns=['Clusters'])],\n",
    "                           axis=1)\n",
    "    return clustering_df\n",
    "\n",
    "from sklearn.manifold import TSNE\n",
    "model = TSNE(learning_rate=100)\n",
    "transformed=model.fit_transform(df1_normalized_df)\n",
    "transformed_df=pd.DataFrame(transformed,columns=['x','y'])\n",
    "\n",
    "def plotSNE(clustering_label):\n",
    "    df_tmp = pd.concat([transformed_df,clustering_label],axis=1)\n",
    "    sns.lmplot(x=\"x\",y=\"y\",hue=\"Clusters\",data=df_tmp,palette=\"husl\")\n",
    "    \n",
    "\n",
    "\n",
    "# model = TSNE(learning_rate=100)\n",
    "# transformed=model.fit_transform(df1_normalized)\n",
    "# xs=transformed[:,0]sns\n",
    "# ys=transformed[:,1]\n",
    "# plt.scatter(xs,ys)\n",
    "# plt.show()\n",
    "# # df_tmp=pd.DataFrame(transformed,columns=['x','y'])\n",
    "# # sns.lmplot(x=\"x\",y=\"y\",data=df_tmp)\n",
    "\n",
    "# def plotTSNE(clusteringdf):\n",
    "#     model = TSNE(learning_rate=100)\n",
    "#     transformed=model.fit_transform(clusteringdf)\n",
    "\n"
   ]
  },
  {
   "cell_type": "code",
   "execution_count": 48,
   "metadata": {},
   "outputs": [],
   "source": [
    "from sklearn.cluster import AgglomerativeClustering\n",
    "clustering = AgglomerativeClustering(linkage='average',n_clusters=3).fit(df1_normalized_df)"
   ]
  },
  {
   "cell_type": "code",
   "execution_count": 76,
   "metadata": {
    "code_folding": []
   },
   "outputs": [],
   "source": [
    "# df_tmp=pd.DataFrame(transformed,columns=['x','y'])\n",
    "# type(clustering.labels_)\n",
    "# type(df1_normalized)\n",
    "# a=np.arange(1,10).reshape(-1,1).shape\n",
    "# b=np.arange(11,20).reshape(-1,1)\n",
    "# np.concatenate((a,b),axis=1)\n",
    "\n",
    "hierarchial_df=createClusteringDF(clustering.labels_)"
   ]
  },
  {
   "cell_type": "markdown",
   "metadata": {},
   "source": [
    "__Meaningfullness of clusters__\n",
    " - Since the cluster sizes are quite lop-sided, no meaningfull clusters can be determined."
   ]
  },
  {
   "cell_type": "code",
   "execution_count": 77,
   "metadata": {},
   "outputs": [
    {
     "data": {
      "text/plain": [
       "2    4316\n",
       "0       5\n",
       "1       2\n",
       "Name: Clusters, dtype: int64"
      ]
     },
     "execution_count": 77,
     "metadata": {},
     "output_type": "execute_result"
    }
   ],
   "source": [
    "hierarchial_df['Clusters'].value_counts()"
   ]
  },
  {
   "cell_type": "markdown",
   "metadata": {},
   "source": [
    "### K-means and GMM Clustering iteration #1 [reference pg 509](https://web.stanford.edu/~hastie/Papers/ESLII.pdf)\n",
    "Apart from hierarchical clustering, we can also apply KMeans and Gaussian Mixture Models (GMM) on the data\n",
    "\n",
    "1. Implement K-means clustering on the data, experimenting with different values of k \n",
    "2. Implement a Gaussian Mixture Model on the data, experimenting with different values for the number of components.  \n",
    "3. Visualise how well K-means and GMMs succeed at separating subgroups in the data\n",
    "4. List two ways to improve the clustering and implement at least one.\n",
    "    - Scaling\n",
    "    - Outlier Removals\n",
    "5. Describe the clusters and evaluate whether or not they form meaningful segments. "
   ]
  },
  {
   "cell_type": "markdown",
   "metadata": {},
   "source": [
    "__K-Means__"
   ]
  },
  {
   "cell_type": "code",
   "execution_count": 68,
   "metadata": {},
   "outputs": [
    {
     "data": {
      "image/png": "[encoded data removed]",
      "text/plain": [
       "<Figure size 432x288 with 1 Axes>"
      ]
     },
     "metadata": {
      "needs_background": "light"
     },
     "output_type": "display_data"
    }
   ],
   "source": [
    "ks = range(1, 10)\n",
    "inertias = []\n",
    "\n",
    "for k in ks:\n",
    "#     # Create a KMeans instance with k clusters: model\n",
    "    model=KMeans(n_clusters=k,random_state=42)\n",
    "    \n",
    "#     # Fit model to samples\n",
    "    model.fit(df1_normalized_df)\n",
    "    inertias.append(model.inertia_)\n",
    "\n",
    "    \n",
    "# # Plot ks vs inertias\n",
    "plt.plot(ks, inertias, '-o')\n",
    "plt.xlabel('number of clusters, k')\n",
    "plt.ylabel('inertia')\n",
    "plt.xticks(ks)\n",
    "plt.show()\n"
   ]
  },
  {
   "cell_type": "code",
   "execution_count": 78,
   "metadata": {},
   "outputs": [],
   "source": [
    "\n",
    "km = KMeans(n_clusters=3, random_state=42)\n",
    "km.fit(df1_normalized_df)\n",
    "\n",
    "# predict the cluster for each data point\n",
    "y_cluster_kmeans = km.predict(df1_normalized_df)\n",
    "type(y_cluster_kmeans)\n",
    "\n",
    "kmeans_df=createClusteringDF(y_cluster_kmeans)\n",
    "\n",
    "# from sklearn import metrics\n",
    "# score = metrics.silhouette_score(df1_normalized, y_cluster_kmeans)\n",
    "# score"
   ]
  },
  {
   "cell_type": "code",
   "execution_count": 80,
   "metadata": {},
   "outputs": [
    {
     "data": {
      "text/plain": [
       "0    3422\n",
       "1     858\n",
       "2      43\n",
       "Name: Clusters, dtype: int64"
      ]
     },
     "execution_count": 80,
     "metadata": {},
     "output_type": "execute_result"
    }
   ],
   "source": [
    "kmeans_df['Clusters'].value_counts()"
   ]
  },
  {
   "cell_type": "code",
   "execution_count": 89,
   "metadata": {},
   "outputs": [
    {
     "name": "stderr",
     "output_type": "stream",
     "text": [
      "/home/hanifa/anaconda3/lib/python3.7/site-packages/scipy/stats/stats.py:1713: FutureWarning: Using a non-tuple sequence for multidimensional indexing is deprecated; use `arr[tuple(seq)]` instead of `arr[seq]`. In the future this will be interpreted as an array index, `arr[np.array(seq)]`, which will result either in an error or a different result.\n",
      "  return np.add.reduce(sorted[indexer] * weights, axis=axis) / sumval\n"
     ]
    },
    {
     "data": {
      "image/png": "[encoded data removed]",
      "text/plain": [
       "<Figure size 408.75x360 with 1 Axes>"
      ]
     },
     "metadata": {
      "needs_background": "light"
     },
     "output_type": "display_data"
    }
   ],
   "source": [
    "plotSNE(kmeans_df[['Clusters']])"
   ]
  },
  {
   "cell_type": "markdown",
   "metadata": {},
   "source": [
    "__GMM__ <br/>\n",
    "\n",
    "[Algo Link](https://towardsdatascience.com/gaussian-mixture-model-clusterization-how-to-select-the-number-of-components-clusters-553bef45f6e4)"
   ]
  },
  {
   "cell_type": "code",
   "execution_count": 126,
   "metadata": {},
   "outputs": [
    {
     "data": {
      "image/png": "[encoded data removed]",
      "text/plain": [
       "<Figure size 432x288 with 1 Axes>"
      ]
     },
     "metadata": {
      "needs_background": "light"
     },
     "output_type": "display_data"
    }
   ],
   "source": [
    "gaus_sil=[]\n",
    "ks=range(2,20)\n",
    "\n",
    "for k in ks:\n",
    "\n",
    "    clusterer = GaussianMixture(n_components=k,random_state=42)\n",
    "\n",
    "    # cluster_labels = clusterer.fit_predict(df1_normalized_df)\n",
    "    clusterer.fit(df1_normalized_df)\n",
    "    cluster_labels=clusterer.predict(df1_normalized_df)\n",
    "\n",
    "    # The silhouette_score gives the average value for all the samples.\n",
    "    # This gives a perspective into the density and separation of the formed\n",
    "    # clusters\n",
    "    silhouette_avg = metrics.silhouette_score(df1_normalized_df, cluster_labels)\n",
    "    gaus_sil.append(silhouette_avg)\n",
    "#     sample_silhouette_values =metrics.silhouette_samples(df1_normalized_df, cluster_labels)\n",
    "#     print(\"%d clusters, silhoutte error is %f and %f\"  %(k,silhouette_avg,sample_silhouette_values.mean()))\n",
    "\n",
    "\n",
    "# # Plot ks vs silhoutte\n",
    "plt.plot(ks, gaus_sil, '-o')\n",
    "plt.xlabel('number of clusters, k')\n",
    "plt.ylabel('Silhoutte score')\n",
    "plt.xticks(ks)\n",
    "plt.show()"
   ]
  },
  {
   "cell_type": "code",
   "execution_count": 130,
   "metadata": {},
   "outputs": [],
   "source": [
    "gmm=GaussianMixture(n_components=2,random_state=42)\n",
    "gmm.fit(df1_normalized_df)\n",
    "\n",
    "# predict the cluster for each data point\n",
    "gmm_clusters = gmm.predict(df1_normalized_df)\n",
    "\n",
    "gmm_df=createClusteringDF(gmm_clusters)"
   ]
  },
  {
   "cell_type": "code",
   "execution_count": 131,
   "metadata": {},
   "outputs": [
    {
     "name": "stderr",
     "output_type": "stream",
     "text": [
      "/home/hanifa/anaconda3/lib/python3.7/site-packages/scipy/stats/stats.py:1713: FutureWarning: Using a non-tuple sequence for multidimensional indexing is deprecated; use `arr[tuple(seq)]` instead of `arr[seq]`. In the future this will be interpreted as an array index, `arr[np.array(seq)]`, which will result either in an error or a different result.\n",
      "  return np.add.reduce(sorted[indexer] * weights, axis=axis) / sumval\n"
     ]
    },
    {
     "data": {
      "image/png": "[encoded data removed]",
      "text/plain": [
       "<Figure size 408.75x360 with 1 Axes>"
      ]
     },
     "metadata": {
      "needs_background": "light"
     },
     "output_type": "display_data"
    }
   ],
   "source": [
    "plotSNE(gmm_df[['Clusters']])"
   ]
  },
  {
   "cell_type": "markdown",
   "metadata": {},
   "source": [
    "__List two ways to improve the clustering and implement at least one.__\n",
    " - Removing Outliers \n",
    " - Scaling variables before running the clustering algorithms"
   ]
  },
  {
   "cell_type": "markdown",
   "metadata": {},
   "source": [
    "### Outliers \n",
    "\n",
    "1. Do outliers influence the results of your Hierarchical Clustering, K-means and GMM models?  \n",
    "2. Do the outliers themselves form clusters? "
   ]
  },
  {
   "cell_type": "code",
   "execution_count": null,
   "metadata": {},
   "outputs": [],
   "source": [
    "# your code here. "
   ]
  },
  {
   "cell_type": "markdown",
   "metadata": {},
   "source": [
    "### Validating clusters  \n",
    "\n",
    "1. Use at least three techniques to validate that your chosen clusters correspond to meaningful customer segments. You may consider a combination of using visualisations and/or quantitative metrics (refer to Elements of Statistical Learning for some examples)"
   ]
  },
  {
   "cell_type": "markdown",
   "metadata": {},
   "source": [
    "- tSne plot\n",
    "- from sklearn import metrics\n",
    " - metrics.silhouette_score(X, labels, metric='euclidean')\n",
    " - The score is higher when clusters are dense and well separated, which relates to a standard concept of a cluster.\n",
    " - metrics.calinski_harabaz_score(X, labels)\n",
    " - The score is higher when clusters are dense and well separated, which relates to a standard concept of a cluster.\n"
   ]
  },
  {
   "cell_type": "markdown",
   "metadata": {},
   "source": [
    "### Model selection\n",
    "\n",
    "1. Explain when it is appropriate to use K-Means, GMM and Hierarchical Clustering \n",
    "2. Which model would you choose for this dataset? "
   ]
  },
  {
   "cell_type": "code",
   "execution_count": null,
   "metadata": {},
   "outputs": [],
   "source": [
    "1. Get from google.\n",
    "2. Use metrics or results to choose them"
   ]
  },
  {
   "cell_type": "markdown",
   "metadata": {},
   "source": [
    "### Opening the black box of clustering [reference pg 503](https://web.stanford.edu/~hastie/Papers/ESLII.pdf)\n",
    "\n",
    "1. In your own words, explain the broad idea behind building a proximity matrix to cluster data. (This should also be verbally presented during Monday's presentation). \n",
    "*Sometimes, typing values into MS Excel helps with building intuition"
   ]
  },
  {
   "cell_type": "markdown",
   "metadata": {},
   "source": []
  },
  {
   "cell_type": "markdown",
   "metadata": {},
   "source": [
    "2. In your own words, how would you calculate the disimilarity between objects in a dataset? (This should also be verbally presented during Monday's presentation)"
   ]
  },
  {
   "cell_type": "markdown",
   "metadata": {},
   "source": []
  },
  {
   "cell_type": "markdown",
   "metadata": {},
   "source": [
    "### PCA for Dimensionality Reduction \n",
    "\n",
    "1. Using the dataset that you have pre-processed, construct a pairplot again. How is it different from the a plot of the raw data and what is your interpretation?  \n",
    "2. Apply PCA pre-processed dataset. More information on PCA here [link]\n",
    "3. Create a plot of cumulative explained variance and number of components. How does this inform you about the best number of components to select? \n",
    "4. Create a plot of PC0 against PC1, coloured by the GMM's predictions on the normalised dataset with outliers removed for n_components =7\n",
    "5. How would you connect the Princip"
   ]
  },
  {
   "cell_type": "code",
   "execution_count": null,
   "metadata": {},
   "outputs": [],
   "source": [
    "from sklearn.decomposition import PCA\n",
    "pca = PCA(n_components=2)\n",
    "pca.fit(df1_normalized)"
   ]
  },
  {
   "cell_type": "code",
   "execution_count": null,
   "metadata": {},
   "outputs": [],
   "source": [
    "# print(pca.components_)\n",
    "# print(pca.explained_variance_)\n",
    "# plt.plot(np.cumsum(pca.explained_variance_ratio_))\n",
    "# plt.xlabel('number of components')\n",
    "# plt.ylabel('cumulative explained variance');"
   ]
  },
  {
   "cell_type": "code",
   "execution_count": null,
   "metadata": {},
   "outputs": [],
   "source": [
    "pca = PCA(n_components = 7) #we have 20 features"
   ]
  },
  {
   "cell_type": "code",
   "execution_count": null,
   "metadata": {},
   "outputs": [],
   "source": [
    "pca.fit(df1_normalized)\n",
    "variance = pca.explained_variance_ratio_ #calculate variance ratios\n",
    "\n",
    "var=np.cumsum(np.round(pca.explained_variance_ratio_, decimals=3)*100)\n",
    "var #cumulative sum of variance explained with [n] features\n",
    "plt.ylabel('% Variance Explained')\n",
    "plt.xlabel('# of Features')\n",
    "plt.title('PCA Analysis')\n",
    "plt.ylim(30,100.5)\n",
    "plt.style.context('seaborn-whitegrid')\n",
    "\n",
    "\n",
    "plt.plot(var)"
   ]
  },
  {
   "cell_type": "markdown",
   "metadata": {},
   "source": [
    "https://scikit-learn.org/stable/auto_examples/cluster/plot_kmeans_silhouette_analysis.html"
   ]
  },
  {
   "cell_type": "code",
   "execution_count": null,
   "metadata": {},
   "outputs": [],
   "source": [
    "df1_normalized"
   ]
  },
  {
   "cell_type": "code",
   "execution_count": null,
   "metadata": {},
   "outputs": [],
   "source": []
  }
 ],
 "metadata": {
  "kernelspec": {
   "display_name": "Python 3",
   "language": "python",
   "name": "python3"
  },
  "language_info": {
   "codemirror_mode": {
    "name": "ipython",
    "version": 3
   },
   "file_extension": ".py",
   "mimetype": "text/x-python",
   "name": "python",
   "nbconvert_exporter": "python",
   "pygments_lexer": "ipython3",
   "version": "3.7.0"
  },
  "toc": {
   "base_numbering": 1,
   "nav_menu": {},
   "number_sections": true,
   "sideBar": true,
   "skip_h1_title": false,
   "title_cell": "Table of Contents",
   "title_sidebar": "Contents",
   "toc_cell": false,
   "toc_position": {},
   "toc_section_display": true,
   "toc_window_display": false
  },
  "widgets": {
   "application/vnd.jupyter.widget-state+json": {
    "state": {},
    "version_major": 2,
    "version_minor": 0
   }
  }
 },
 "nbformat": 4,
 "nbformat_minor": 2
}
