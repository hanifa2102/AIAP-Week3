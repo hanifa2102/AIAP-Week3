{
 "cells": [
  {
   "cell_type": "markdown",
   "metadata": {},
   "source": [
    "# Clustering Case Study 2: Apply Association Rules to the customer segments from Case Study 1 to create a recommendation engine "
   ]
  },
  {
   "cell_type": "markdown",
   "metadata": {},
   "source": [
    "## Overview of Association Rules and the Apriori algorithm behind it \n",
    "\n",
    "Association Rules uncovers which items in a dataset occur together. Within the context of our ecommerce dataset, if customers normally purchase \n",
    "\n",
    "KDNuggets gives a quick overview [here](https://www.kdnuggets.com/2016/04/association-rules-apriori-algorithm-tutorial.html). For a more mathematical overview, see [pg 497 of ESL by Hastie and Tibshirani](https://web.stanford.edu/~hastie/Papers/ESLII.pdf) \n",
    "\n",
    "Association Rules are particularly useful for stock transaction data and provide a good starting point into recommendation engines. "
   ]
  },
  {
   "cell_type": "code",
   "execution_count": 11,
   "metadata": {},
   "outputs": [],
   "source": [
    "import pandas as pd\n",
    "import numpy as np\n",
    "from mlxtend.frequent_patterns import apriori\n",
    "import matplotlib.pyplot as plt\n",
    "import seaborn as sns\n",
    "from mlxtend.frequent_patterns import association_rules"
   ]
  },
  {
   "cell_type": "markdown",
   "metadata": {},
   "source": [
    "## Implementing Association Rules on ecommerce data \n",
    "\n",
    "1. Read in the cleaned dataset you saved in Case Study 1\n",
    "2. This dataset is not ready for Association Rules yet. Therefore, reshape the data so that each row is an invoice number and each column is a product\n",
    "![alt text](stockcode.png)"
   ]
  },
  {
   "cell_type": "code",
   "execution_count": 2,
   "metadata": {},
   "outputs": [],
   "source": [
    "df = pd.read_csv('data/clean_data.csv', encoding='ISO-8859-1')"
   ]
  },
  {
   "cell_type": "code",
   "execution_count": 3,
   "metadata": {},
   "outputs": [],
   "source": [
    "df1 = pd.crosstab(df.InvoiceNo,df.StockCode)"
   ]
  },
  {
   "cell_type": "code",
   "execution_count": 4,
   "metadata": {},
   "outputs": [],
   "source": [
    "df1[df1>1]=1"
   ]
  },
  {
   "cell_type": "markdown",
   "metadata": {},
   "source": [
    "# 3. Apply the apriori algorithm on the dataset generated above to get the frequent itemsets. You may find the `mlextend` libary useful\n",
    "4. Apply association rules on the frequent itemsets from 3 to generate confidence, support and lift measures for the data \n",
    "5. What happens when you change the `min_threshold` parameter? "
   ]
  },
  {
   "cell_type": "markdown",
   "metadata": {},
   "source": [
    "__Changing Min_threshold__\n",
    "- Increasing the threshold, decreases the number of itemsets found"
   ]
  },
  {
   "cell_type": "code",
   "execution_count": 9,
   "metadata": {},
   "outputs": [],
   "source": [
    "frequent_itemsets=apriori(df1, min_support=0.01,use_colnames=True)\n",
    "# x=[]\n",
    "# for i in range(0,df1.values.shape[1]):\n",
    "#    x.append(df1.values[i].sum()/df1.values.shape[1])\n",
    "# dfx= pd.DataFrame(x,columns=['x'])\n",
    "# sns.distplot(dfx.x,kde=False)"
   ]
  },
  {
   "cell_type": "code",
   "execution_count": 12,
   "metadata": {},
   "outputs": [],
   "source": [
    "rules = association_rules(frequent_itemsets, metric=\"lift\", min_threshold=1.2)"
   ]
  },
  {
   "cell_type": "code",
   "execution_count": 24,
   "metadata": {},
   "outputs": [
    {
     "data": {
      "text/html": [
       "<div>\n",
       "<style scoped>\n",
       "    .dataframe tbody tr th:only-of-type {\n",
       "        vertical-align: middle;\n",
       "    }\n",
       "\n",
       "    .dataframe tbody tr th {\n",
       "        vertical-align: top;\n",
       "    }\n",
       "\n",
       "    .dataframe thead th {\n",
       "        text-align: right;\n",
       "    }\n",
       "</style>\n",
       "<table border=\"1\" class=\"dataframe\">\n",
       "  <thead>\n",
       "    <tr style=\"text-align: right;\">\n",
       "      <th></th>\n",
       "      <th>antecedents</th>\n",
       "      <th>consequents</th>\n",
       "      <th>antecedent support</th>\n",
       "      <th>consequent support</th>\n",
       "      <th>support</th>\n",
       "      <th>confidence</th>\n",
       "      <th>lift</th>\n",
       "      <th>leverage</th>\n",
       "      <th>conviction</th>\n",
       "    </tr>\n",
       "  </thead>\n",
       "  <tbody>\n",
       "    <tr>\n",
       "      <th>1102</th>\n",
       "      <td>(23172)</td>\n",
       "      <td>(23170, 23171)</td>\n",
       "      <td>0.012179</td>\n",
       "      <td>0.012342</td>\n",
       "      <td>0.010059</td>\n",
       "      <td>0.825893</td>\n",
       "      <td>66.915513</td>\n",
       "      <td>0.009908</td>\n",
       "      <td>5.672701</td>\n",
       "    </tr>\n",
       "    <tr>\n",
       "      <th>1099</th>\n",
       "      <td>(23170, 23171)</td>\n",
       "      <td>(23172)</td>\n",
       "      <td>0.012342</td>\n",
       "      <td>0.012179</td>\n",
       "      <td>0.010059</td>\n",
       "      <td>0.814978</td>\n",
       "      <td>66.915513</td>\n",
       "      <td>0.009908</td>\n",
       "      <td>5.338936</td>\n",
       "    </tr>\n",
       "    <tr>\n",
       "      <th>1103</th>\n",
       "      <td>(23171)</td>\n",
       "      <td>(23170, 23172)</td>\n",
       "      <td>0.014572</td>\n",
       "      <td>0.010711</td>\n",
       "      <td>0.010059</td>\n",
       "      <td>0.690299</td>\n",
       "      <td>64.446549</td>\n",
       "      <td>0.009903</td>\n",
       "      <td>3.194330</td>\n",
       "    </tr>\n",
       "    <tr>\n",
       "      <th>1098</th>\n",
       "      <td>(23170, 23172)</td>\n",
       "      <td>(23171)</td>\n",
       "      <td>0.010711</td>\n",
       "      <td>0.014572</td>\n",
       "      <td>0.010059</td>\n",
       "      <td>0.939086</td>\n",
       "      <td>64.446549</td>\n",
       "      <td>0.009903</td>\n",
       "      <td>16.177450</td>\n",
       "    </tr>\n",
       "    <tr>\n",
       "      <th>539</th>\n",
       "      <td>(23171)</td>\n",
       "      <td>(23172)</td>\n",
       "      <td>0.014572</td>\n",
       "      <td>0.012179</td>\n",
       "      <td>0.010983</td>\n",
       "      <td>0.753731</td>\n",
       "      <td>61.886727</td>\n",
       "      <td>0.010806</td>\n",
       "      <td>4.011151</td>\n",
       "    </tr>\n",
       "    <tr>\n",
       "      <th>538</th>\n",
       "      <td>(23172)</td>\n",
       "      <td>(23171)</td>\n",
       "      <td>0.012179</td>\n",
       "      <td>0.014572</td>\n",
       "      <td>0.010983</td>\n",
       "      <td>0.901786</td>\n",
       "      <td>61.886727</td>\n",
       "      <td>0.010806</td>\n",
       "      <td>10.033453</td>\n",
       "    </tr>\n",
       "    <tr>\n",
       "      <th>1093</th>\n",
       "      <td>(22745, 22748)</td>\n",
       "      <td>(22746)</td>\n",
       "      <td>0.013810</td>\n",
       "      <td>0.013702</td>\n",
       "      <td>0.010113</td>\n",
       "      <td>0.732283</td>\n",
       "      <td>53.445069</td>\n",
       "      <td>0.009924</td>\n",
       "      <td>3.684115</td>\n",
       "    </tr>\n",
       "    <tr>\n",
       "      <th>1096</th>\n",
       "      <td>(22746)</td>\n",
       "      <td>(22745, 22748)</td>\n",
       "      <td>0.013702</td>\n",
       "      <td>0.013810</td>\n",
       "      <td>0.010113</td>\n",
       "      <td>0.738095</td>\n",
       "      <td>53.445069</td>\n",
       "      <td>0.009924</td>\n",
       "      <td>3.765451</td>\n",
       "    </tr>\n",
       "    <tr>\n",
       "      <th>545</th>\n",
       "      <td>(23175)</td>\n",
       "      <td>(23174)</td>\n",
       "      <td>0.014680</td>\n",
       "      <td>0.014463</td>\n",
       "      <td>0.011092</td>\n",
       "      <td>0.755556</td>\n",
       "      <td>52.241270</td>\n",
       "      <td>0.010879</td>\n",
       "      <td>4.031743</td>\n",
       "    </tr>\n",
       "    <tr>\n",
       "      <th>544</th>\n",
       "      <td>(23174)</td>\n",
       "      <td>(23175)</td>\n",
       "      <td>0.014463</td>\n",
       "      <td>0.014680</td>\n",
       "      <td>0.011092</td>\n",
       "      <td>0.766917</td>\n",
       "      <td>52.241270</td>\n",
       "      <td>0.010879</td>\n",
       "      <td>4.227339</td>\n",
       "    </tr>\n",
       "  </tbody>\n",
       "</table>\n",
       "</div>"
      ],
      "text/plain": [
       "         antecedents     consequents  antecedent support  consequent support  \\\n",
       "1102         (23172)  (23170, 23171)            0.012179            0.012342   \n",
       "1099  (23170, 23171)         (23172)            0.012342            0.012179   \n",
       "1103         (23171)  (23170, 23172)            0.014572            0.010711   \n",
       "1098  (23170, 23172)         (23171)            0.010711            0.014572   \n",
       "539          (23171)         (23172)            0.014572            0.012179   \n",
       "538          (23172)         (23171)            0.012179            0.014572   \n",
       "1093  (22745, 22748)         (22746)            0.013810            0.013702   \n",
       "1096         (22746)  (22745, 22748)            0.013702            0.013810   \n",
       "545          (23175)         (23174)            0.014680            0.014463   \n",
       "544          (23174)         (23175)            0.014463            0.014680   \n",
       "\n",
       "       support  confidence       lift  leverage  conviction  \n",
       "1102  0.010059    0.825893  66.915513  0.009908    5.672701  \n",
       "1099  0.010059    0.814978  66.915513  0.009908    5.338936  \n",
       "1103  0.010059    0.690299  64.446549  0.009903    3.194330  \n",
       "1098  0.010059    0.939086  64.446549  0.009903   16.177450  \n",
       "539   0.010983    0.753731  61.886727  0.010806    4.011151  \n",
       "538   0.010983    0.901786  61.886727  0.010806   10.033453  \n",
       "1093  0.010113    0.732283  53.445069  0.009924    3.684115  \n",
       "1096  0.010113    0.738095  53.445069  0.009924    3.765451  \n",
       "545   0.011092    0.755556  52.241270  0.010879    4.031743  \n",
       "544   0.011092    0.766917  52.241270  0.010879    4.227339  "
      ]
     },
     "execution_count": 24,
     "metadata": {},
     "output_type": "execute_result"
    }
   ],
   "source": [
    "rules.sort_values('lift',ascending=False).head(10)"
   ]
  },
  {
   "cell_type": "markdown",
   "metadata": {},
   "source": [
    "### Creating tailored recommendations by applying Association Rules to the customer segments produced from Case Study 1\n",
    "\n",
    "1. In the previous notebook, we created a GMM model that clustered customers into n segments. Apply association rules to each segment from your chosen model. \n",
    "2. Do results for each segment differ from each other? "
   ]
  },
  {
   "cell_type": "code",
   "execution_count": 25,
   "metadata": {},
   "outputs": [],
   "source": [
    "gmm_df= pd.read_csv('data/gmm_df.csv', sep=',',encoding='ISO-8859-1')"
   ]
  },
  {
   "cell_type": "code",
   "execution_count": 26,
   "metadata": {},
   "outputs": [
    {
     "name": "stdout",
     "output_type": "stream",
     "text": [
      "<class 'pandas.core.frame.DataFrame'>\n",
      "RangeIndex: 4323 entries, 0 to 4322\n",
      "Data columns (total 9 columns):\n",
      "CustomerID               4323 non-null int64\n",
      "NoOfInvoices             4323 non-null float64\n",
      "NoOfUniqueItems          4323 non-null float64\n",
      "TotalQuantity            4323 non-null float64\n",
      "UnitPriceMean            4323 non-null float64\n",
      "UnitPriceStd             4323 non-null float64\n",
      "QuantityPerInvoice       4323 non-null float64\n",
      "UniqueItemsPerInvoice    4323 non-null float64\n",
      "Clusters                 4323 non-null int64\n",
      "dtypes: float64(7), int64(2)\n",
      "memory usage: 304.0 KB\n"
     ]
    }
   ],
   "source": [
    "gmm_df.info()"
   ]
  },
  {
   "cell_type": "code",
   "execution_count": 29,
   "metadata": {},
   "outputs": [],
   "source": [
    "gmm_df_0= gmm_df[gmm_df['Clusters']==0]\n",
    "gmm_df_1= gmm_df[gmm_df['Clusters']==1]"
   ]
  },
  {
   "cell_type": "code",
   "execution_count": 34,
   "metadata": {},
   "outputs": [],
   "source": [
    "def getRules(df):\n",
    "    df1=pd.crosstab(df.InvoiceNo,df.StockCode)\n",
    "    df1[df1>1]=1\n",
    "    frequent_itemsets=apriori(df1, min_support=0.01,use_colnames=True)\n",
    "    rules = association_rules(frequent_itemsets, metric=\"lift\", min_threshold=1.2)\n",
    "    return rules.sort_values('lift',ascending=False)"
   ]
  },
  {
   "cell_type": "code",
   "execution_count": 36,
   "metadata": {},
   "outputs": [
    {
     "data": {
      "text/html": [
       "<div>\n",
       "<style scoped>\n",
       "    .dataframe tbody tr th:only-of-type {\n",
       "        vertical-align: middle;\n",
       "    }\n",
       "\n",
       "    .dataframe tbody tr th {\n",
       "        vertical-align: top;\n",
       "    }\n",
       "\n",
       "    .dataframe thead th {\n",
       "        text-align: right;\n",
       "    }\n",
       "</style>\n",
       "<table border=\"1\" class=\"dataframe\">\n",
       "  <thead>\n",
       "    <tr style=\"text-align: right;\">\n",
       "      <th></th>\n",
       "      <th>CustomerID</th>\n",
       "      <th>NoOfInvoices</th>\n",
       "      <th>NoOfUniqueItems</th>\n",
       "      <th>TotalQuantity</th>\n",
       "      <th>UnitPriceMean</th>\n",
       "      <th>UnitPriceStd</th>\n",
       "      <th>QuantityPerInvoice</th>\n",
       "      <th>UniqueItemsPerInvoice</th>\n",
       "      <th>Clusters</th>\n",
       "    </tr>\n",
       "  </thead>\n",
       "  <tbody>\n",
       "    <tr>\n",
       "      <th>3</th>\n",
       "      <td>12350</td>\n",
       "      <td>0.000000</td>\n",
       "      <td>0.008959</td>\n",
       "      <td>0.001109</td>\n",
       "      <td>0.001806</td>\n",
       "      <td>0.011176</td>\n",
       "      <td>0.062889</td>\n",
       "      <td>0.076782</td>\n",
       "      <td>0</td>\n",
       "    </tr>\n",
       "    <tr>\n",
       "      <th>5</th>\n",
       "      <td>12353</td>\n",
       "      <td>0.000000</td>\n",
       "      <td>0.001680</td>\n",
       "      <td>0.000108</td>\n",
       "      <td>0.002905</td>\n",
       "      <td>0.005407</td>\n",
       "      <td>0.006096</td>\n",
       "      <td>0.017367</td>\n",
       "      <td>0</td>\n",
       "    </tr>\n",
       "    <tr>\n",
       "      <th>7</th>\n",
       "      <td>12355</td>\n",
       "      <td>0.000000</td>\n",
       "      <td>0.006719</td>\n",
       "      <td>0.001353</td>\n",
       "      <td>0.001984</td>\n",
       "      <td>0.004148</td>\n",
       "      <td>0.076686</td>\n",
       "      <td>0.058501</td>\n",
       "      <td>0</td>\n",
       "    </tr>\n",
       "    <tr>\n",
       "      <th>10</th>\n",
       "      <td>12358</td>\n",
       "      <td>0.004785</td>\n",
       "      <td>0.006719</td>\n",
       "      <td>0.001398</td>\n",
       "      <td>0.003986</td>\n",
       "      <td>0.013749</td>\n",
       "      <td>0.039466</td>\n",
       "      <td>0.028793</td>\n",
       "      <td>0</td>\n",
       "    </tr>\n",
       "    <tr>\n",
       "      <th>12</th>\n",
       "      <td>12360</td>\n",
       "      <td>0.009569</td>\n",
       "      <td>0.058231</td>\n",
       "      <td>0.006587</td>\n",
       "      <td>0.001662</td>\n",
       "      <td>0.007663</td>\n",
       "      <td>0.124280</td>\n",
       "      <td>0.159049</td>\n",
       "      <td>0</td>\n",
       "    </tr>\n",
       "  </tbody>\n",
       "</table>\n",
       "</div>"
      ],
      "text/plain": [
       "    CustomerID  NoOfInvoices  NoOfUniqueItems  TotalQuantity  UnitPriceMean  \\\n",
       "3        12350      0.000000         0.008959       0.001109       0.001806   \n",
       "5        12353      0.000000         0.001680       0.000108       0.002905   \n",
       "7        12355      0.000000         0.006719       0.001353       0.001984   \n",
       "10       12358      0.004785         0.006719       0.001398       0.003986   \n",
       "12       12360      0.009569         0.058231       0.006587       0.001662   \n",
       "\n",
       "    UnitPriceStd  QuantityPerInvoice  UniqueItemsPerInvoice  Clusters  \n",
       "3       0.011176            0.062889               0.076782         0  \n",
       "5       0.005407            0.006096               0.017367         0  \n",
       "7       0.004148            0.076686               0.058501         0  \n",
       "10      0.013749            0.039466               0.028793         0  \n",
       "12      0.007663            0.124280               0.159049         0  "
      ]
     },
     "execution_count": 36,
     "metadata": {},
     "output_type": "execute_result"
    }
   ],
   "source": []
  },
  {
   "cell_type": "code",
   "execution_count": null,
   "metadata": {},
   "outputs": [],
   "source": []
  }
 ],
 "metadata": {
  "kernelspec": {
   "display_name": "Python 3",
   "language": "python",
   "name": "python3"
  },
  "language_info": {
   "codemirror_mode": {
    "name": "ipython",
    "version": 3
   },
   "file_extension": ".py",
   "mimetype": "text/x-python",
   "name": "python",
   "nbconvert_exporter": "python",
   "pygments_lexer": "ipython3",
   "version": "3.7.0"
  },
  "toc": {
   "base_numbering": 1,
   "nav_menu": {},
   "number_sections": true,
   "sideBar": true,
   "skip_h1_title": false,
   "title_cell": "Table of Contents",
   "title_sidebar": "Contents",
   "toc_cell": false,
   "toc_position": {},
   "toc_section_display": true,
   "toc_window_display": false
  }
 },
 "nbformat": 4,
 "nbformat_minor": 2
}
